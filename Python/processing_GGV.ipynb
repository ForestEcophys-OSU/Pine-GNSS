{
 "cells": [
  {
   "cell_type": "code",
   "execution_count": 1,
   "id": "fe8d3831-209f-43d2-a0e5-a1bfeffb00e6",
   "metadata": {},
   "outputs": [],
   "source": [
    "#Chunk that sloads necessary packages & sets working environment to where the jupyterlab notebook file is \n",
    "%load_ext autoreload\n",
    "%autoreload 2\n",
    "import gnssvod as gv\n",
    "import numpy as np\n",
    "import pandas as pd\n",
    "import matplotlib.pyplot as plt\n",
    "import matplotlib.dates as mdates\n",
    "import pdb\n",
    "import importlib\n",
    "import zipfile\n",
    "import os\n",
    "import xarray as xr\n",
    "import glob\n",
    "import shutil\n",
    "from gnssvod.hemistats.hemistats import hemibuild\n",
    "#import georinex as gr\n",
    "#import qgrid as interactive table \n",
    "from matplotlib.collections import PatchCollection\n",
    "import matplotlib.dates as mdates\n",
    "import shutil\n",
    "from matplotlib import rcParams\n",
    "from datetime import datetime, timedelta"
   ]
  },
  {
   "cell_type": "code",
   "execution_count": 2,
   "id": "79e6616f-a1c2-40cc-a8cf-938315a8d9f5",
   "metadata": {},
   "outputs": [
    {
     "data": {
      "text/plain": [
       "IntervalIndex([[2025-03-01 00:00:00, 2025-03-02 00:00:00),\n",
       "               [2025-03-02 00:00:00, 2025-03-03 00:00:00),\n",
       "               [2025-03-03 00:00:00, 2025-03-04 00:00:00),\n",
       "               [2025-03-04 00:00:00, 2025-03-05 00:00:00),\n",
       "               [2025-03-05 00:00:00, 2025-03-06 00:00:00),\n",
       "               [2025-03-06 00:00:00, 2025-03-07 00:00:00),\n",
       "               [2025-03-07 00:00:00, 2025-03-08 00:00:00),\n",
       "               [2025-03-08 00:00:00, 2025-03-09 00:00:00),\n",
       "               [2025-03-09 00:00:00, 2025-03-10 00:00:00),\n",
       "               [2025-03-10 00:00:00, 2025-03-11 00:00:00)],\n",
       "              dtype='interval[datetime64[ns], left]')"
      ]
     },
     "execution_count": 2,
     "metadata": {},
     "output_type": "execute_result"
    }
   ],
   "source": [
    "#time intervals based on study period \n",
    "startday = pd.to_datetime('01-03-2025',format='%d-%m-%Y')\n",
    "timeintervals=pd.interval_range(start=startday, periods=10, freq='D', closed='left')\n",
    "timeintervals"
   ]
  },
  {
   "cell_type": "code",
   "execution_count": 5,
   "id": "e5091ddb-ffa2-431b-8ace-d81f93cb9761",
   "metadata": {},
   "outputs": [
    {
     "name": "stdout",
     "output_type": "stream",
     "text": [
      "Created a temporary directory at /var/folders/fh/962dt8rs1zd8vch980_pv5yc0000gn/T/tmplytijcbm\n",
      "Could not find any files matching the pattern /Volumes/coraldelmar/nc/*.nc\n",
      "/Volumes/coraldelmar/Reach-02_raw_20250322184422.25O exists | Reading...\n",
      "Processed 2219603 out of 2656486 lines (83.6%)\n",
      "Observation file  /Volumes/coraldelmar/Reach-02_raw_20250322184422.25O  is read in 60.15 seconds.\n",
      "Processing 2570087 individual observations\n",
      "Calculating Azimuth and Elevation\n",
      "This file does not exist: /var/folders/fh/962dt8rs1zd8vch980_pv5yc0000gn/T/tmplytijcbm/GFZ0MGXRAP_20250810000_01D_05M_ORB.SP3\n",
      "Downloading: ftp://gssc.esa.int/gnss/products/2358//GFZ0MGXRAP_20250810000_01D_05M_ORB.SP3.gz"
     ]
    },
    {
     "name": "stderr",
     "output_type": "stream",
     "text": [
      "GFZ0MGXRAP_20250810000_01D_05M_ORB.SP3.gz: 1.07MB [00:08, 140kB/s]              \n"
     ]
    },
    {
     "name": "stdout",
     "output_type": "stream",
     "text": [
      " | Download completed for ftp://gssc.esa.int/gnss/products/2358//GFZ0MGXRAP_20250810000_01D_05M_ORB.SP3.gz\n",
      "/var/folders/fh/962dt8rs1zd8vch980_pv5yc0000gn/T/tmplytijcbm/GFZ0MGXRAP_20250810000_01D_05M_ORB.SP3 file is read in 8.85 seconds\n",
      "This file does not exist: /var/folders/fh/962dt8rs1zd8vch980_pv5yc0000gn/T/tmplytijcbm/GFZ0MGXRAP_20250820000_01D_05M_ORB.SP3\n",
      "Downloading: ftp://gssc.esa.int/gnss/products/2359//GFZ0MGXRAP_20250820000_01D_05M_ORB.SP3.gz"
     ]
    },
    {
     "name": "stderr",
     "output_type": "stream",
     "text": [
      "GFZ0MGXRAP_20250820000_01D_05M_ORB.SP3.gz: 1.05MB [00:04, 228kB/s]              \n"
     ]
    },
    {
     "name": "stdout",
     "output_type": "stream",
     "text": [
      " | Download completed for ftp://gssc.esa.int/gnss/products/2359//GFZ0MGXRAP_20250820000_01D_05M_ORB.SP3.gz\n",
      "/var/folders/fh/962dt8rs1zd8vch980_pv5yc0000gn/T/tmplytijcbm/GFZ0MGXRAP_20250820000_01D_05M_ORB.SP3 file is read in 5.36 seconds\n",
      "This file does not exist: /var/folders/fh/962dt8rs1zd8vch980_pv5yc0000gn/T/tmplytijcbm/GFZ0MGXRAP_20250810000_01D_30S_CLK.CLK\n",
      "Downloading: GFZ0MGXRAP_20250810000_01D_30S_CLK.CLK.gz"
     ]
    },
    {
     "name": "stderr",
     "output_type": "stream",
     "text": [
      "GFZ0MGXRAP_20250810000_01D_30S_CLK.CLK.gz: 4.84MB [00:56, 89.4kB/s]             \n"
     ]
    },
    {
     "name": "stdout",
     "output_type": "stream",
     "text": [
      " | Download completed for GFZ0MGXRAP_20250810000_01D_30S_CLK.CLK.gz\n",
      "/var/folders/fh/962dt8rs1zd8vch980_pv5yc0000gn/T/tmplytijcbm/GFZ0MGXRAP_20250810000_01D_30S_CLK.CLK file is read in 1.23 seconds\n",
      "This file does not exist: /var/folders/fh/962dt8rs1zd8vch980_pv5yc0000gn/T/tmplytijcbm/GFZ0MGXRAP_20250820000_01D_30S_CLK.CLK\n",
      "Downloading: GFZ0MGXRAP_20250820000_01D_30S_CLK.CLK.gz"
     ]
    },
    {
     "name": "stderr",
     "output_type": "stream",
     "text": [
      "GFZ0MGXRAP_20250820000_01D_30S_CLK.CLK.gz: 4.88MB [00:16, 307kB/s]              \n"
     ]
    },
    {
     "name": "stdout",
     "output_type": "stream",
     "text": [
      " | Download completed for GFZ0MGXRAP_20250820000_01D_30S_CLK.CLK.gz\n",
      "/var/folders/fh/962dt8rs1zd8vch980_pv5yc0000gn/T/tmplytijcbm/GFZ0MGXRAP_20250820000_01D_30S_CLK.CLK file is read in 1.15 seconds\n",
      "SP3 interpolation is done in 1.40 seconds\n",
      "Saved 88112 individual observations in /Volumes/coraldelmar/nc/Reach-02_raw_20250322184422.nc\n",
      "Removed the temporary directory at /var/folders/fh/962dt8rs1zd8vch980_pv5yc0000gn/T/tmplytijcbm\n"
     ]
    }
   ],
   "source": [
    "#one obs\n",
    "#update the below to your own path \n",
    "pattern= {'Reach-2':'/Volumes/coraldelmar/Reach-02_raw_20250322184422.25O'}\n",
    "outputdir={'Reach-2':'/Volumes/coraldelmar/nc/'}\n",
    "#approx_position=[-4705.036,43.000,23011766.990]\n",
    "keepvars=['S1C','S1X','S2C','S2X']\n",
    "#gv.preprocess(pattern,interval='30s',keepvars=keepvars,outputdir=outputdir, approx_position=approx_position)\n",
    "## the approx_position we only specify if we get an error: ValueError: Missing an approximate antenna position. Provide the argument ‘approx_position’ to preprocess()\n",
    "gv.preprocess(pattern,interval='30s',keepvars=keepvars,outputdir=outputdir)"
   ]
  },
  {
   "cell_type": "code",
   "execution_count": null,
   "id": "cc1172a4-3d39-4ec6-9b8b-d4024aeb29be",
   "metadata": {},
   "outputs": [],
   "source": [
    "# option for batch processing, example with my files- again, approx-position is for an error\n",
    "#batch processing for one station\n",
    "pattern= {'MACROCOSM-2':'/Volumes/coraldelmar/april_collection/extracted/MACROCOSM-2/MACROCOSM-2_raw_*.25O'}\n",
    "outputdir={'MACROCOSM-2':'/Volumes/coraldelmar/april_collection/MACROCOSM-2/nc/'  }\n",
    "#approx_position=[2481170.8276 -5525721.2902,1992311.7021 ]\n",
    "keepvars=['S1C','S1X','S2C','S2X']\n",
    "#gv.preprocess(pattern,interval='30s',keepvars=keepvars,outputdir=outputdir,approx_position=approx_position)\n",
    "gv.preprocess(pattern,interval='30s',keepvars=keepvars,outputdir=outputdir)"
   ]
  },
  {
   "cell_type": "markdown",
   "id": "c599a1bb-563e-4762-9e6e-95f73a0f0e7c",
   "metadata": {},
   "source": [
    "continuing portion I recommend in a separate file, we call ours gnss_gathering"
   ]
  },
  {
   "cell_type": "code",
   "execution_count": null,
   "id": "8fa3cede-d4b0-436c-97c7-35ca33de573a",
   "metadata": {},
   "outputs": [],
   "source": [
    "#pairing and concatenating--- starting by establishing path to .nc files per station, replace with own path \n",
    "pattern={'MACROCOSM-1':'/Volumes/coraldelmar/march_collection/MACROCOSM-1/nc/*.nc',\n",
    "        'MACROCOSM-2':'/Volumes/coraldelmar/march_collection/MACROCOSM-2/nc/*.nc',\n",
    "        'MACROCOSM-3':'/Volumes/coraldelmar/march_collection/MACROCOSM-3/nc/*.nc',\n",
    "        'MACROCOSM-5':'/Volumes/coraldelmar/march_collection/MACROCOSM-5/nc/*.nc',\n",
    "        'MACROCOSM-7':'/Volumes/coraldelmar/march_collection/MACROCOSM-7/nc/*.nc'}"
   ]
  },
  {
   "cell_type": "code",
   "execution_count": null,
   "id": "5dba739c-f9f5-4d22-93bc-33dcdcae5d73",
   "metadata": {},
   "outputs": [],
   "source": [
    "#re-establish time intervals - this will be necessary when you want to look at a specific period of data. \n",
    "startday = pd.to_datetime('01-03-2025',format='%d-%m-%Y')\n",
    "timeintervals=pd.interval_range(start=startday, periods=10, freq='D', closed='left')\n",
    "timeintervals"
   ]
  },
  {
   "cell_type": "code",
   "execution_count": null,
   "id": "c01ce0bf-5de2-484e-8fc6-f5bba1f99230",
   "metadata": {},
   "outputs": [],
   "source": [
    "#concatenating. Reference station always goes first. Replace with own path+pairings\n",
    "\n",
    "\n",
    "#MACROCOSM 1.5\n",
    "pairings={'MACROCOSM-1.5':('MACROCOSM-1','MACROCOSM-5')}\n",
    "outputdir={'MACROCOSM-1.5':'/Volumes/coraldelmar/march_collection/MACROCOSM-1.5'}\n",
    "keepvars=['S*','Azimuth','Elevation']\n",
    "out=gv.gather_stations(pattern,pairings,timeintervals,outputresult=True)"
   ]
  },
  {
   "cell_type": "markdown",
   "id": "7f596989-9b59-4425-a00d-b332f1282244",
   "metadata": {},
   "source": [
    "The portion below I adapt for different station pairings"
   ]
  },
  {
   "cell_type": "code",
   "execution_count": null,
   "id": "506b4a18-56ff-4690-beb0-62d170c76026",
   "metadata": {},
   "outputs": [],
   "source": [
    "#\n",
    "ds=xr.open_mfdataset('/Volumes/coraldelmar/march_collection/MACROCOSM-5.7/*.nc',combine='nested',concat_dim='Epoch')\n",
    "ds"
   ]
  },
  {
   "cell_type": "code",
   "execution_count": null,
   "id": "6c97fe67-0f11-432a-81d8-1d75f46cca57",
   "metadata": {},
   "outputs": [],
   "source": [
    "#\n",
    "df=ds.to_dataframe().dropna(how='all').reorder_levels([\"Station\",\"Epoch\",\"SV\"]).sort_index()\n",
    "df"
   ]
  },
  {
   "cell_type": "code",
   "execution_count": null,
   "id": "bd122a41-4e0d-49c3-b8ba-c9e80740c86d",
   "metadata": {},
   "outputs": [],
   "source": [
    "hemi = gv.hemibuild(4)\n",
    "hemi"
   ]
  },
  {
   "cell_type": "code",
   "execution_count": null,
   "id": "b877e6bf-3709-4d57-9e25-a0c03470f801",
   "metadata": {},
   "outputs": [],
   "source": [
    "hemi.grid"
   ]
  },
  {
   "cell_type": "code",
   "execution_count": null,
   "id": "9c73c366-40f3-4f79-b54f-87d864c9289c",
   "metadata": {},
   "outputs": [],
   "source": [
    "# get patches\n",
    "patches = hemi.patches() \n",
    "patches"
   ]
  },
  {
   "cell_type": "code",
   "execution_count": null,
   "id": "38321c07-9e0d-47bf-a9fe-18b0e64a016d",
   "metadata": {},
   "outputs": [],
   "source": [
    "newdf = hemi.add_CellID(df)\n",
    "newdf"
   ]
  },
  {
   "cell_type": "code",
   "execution_count": null,
   "id": "33968b48-4f12-4b2e-beec-e74176a9242a",
   "metadata": {},
   "outputs": [],
   "source": [
    "hemi_average = newdf.groupby(['CellID','Station']).mean()\n",
    "hemi_average"
   ]
  },
  {
   "cell_type": "code",
   "execution_count": null,
   "id": "14f2d460-0830-4425-969b-e1298daeaf17",
   "metadata": {},
   "outputs": [],
   "source": [
    "# set which data files should be loaded\n",
    "pattern = '/Volumes/coraldelmar/march_collection/MACROCOSM-5.7/*.nc'\n",
    "# define how to associate stations together. Always put reference station first.\n",
    "pairings={'MACROCOSM-5.7':('MACROCOSM-5','MACROCOSM-7')}\n",
    "# define if some observables with similar frequencies should be combined together. In the future, this should be replaced by the selection of frequency bands.\n",
    "bands = {'VOD1':['S1','S1X','S1C'],'VOD2':['S2','S2X','S2C']}\n",
    "\n",
    "vod = gv.calc_vod(pattern,pairings,bands)\n",
    "vod = vod['MACROCOSM-5.7']\n",
    "vod"
   ]
  },
  {
   "cell_type": "code",
   "execution_count": null,
   "id": "6848b391-178b-47d5-93f0-cd204e279ce1",
   "metadata": {},
   "outputs": [],
   "source": [
    "# intialize hemispheric grid\n",
    "hemi = gv.hemibuild(2)\n",
    "# get patches for plotting later\n",
    "patches = hemi.patches()\n",
    "# classify vod into grid cells, drop azimuth and elevation afterwards as we don't need it anymore\n",
    "vod = hemi.add_CellID(vod)\n",
    "# get average value per grid cell\n",
    "vod_avg = vod.groupby(['CellID']).agg(['mean', 'std', 'count'])\n",
    "# flatten the columns\n",
    "vod_avg.columns = [\"_\".join(x) for x in vod_avg.columns.to_flat_index()]\n",
    "vod_avg"
   ]
  },
  {
   "cell_type": "code",
   "execution_count": null,
   "id": "4b0d54dd-9ad7-4900-a34d-4ad80076d9f8",
   "metadata": {},
   "outputs": [],
   "source": [
    "# merge statistics with the original VOD measurements\n",
    "vod_anom = vod.join(vod_avg,on='CellID')"
   ]
  },
  {
   "cell_type": "code",
   "execution_count": null,
   "id": "0be06400-ae50-4f73-91bb-551289de7eb2",
   "metadata": {},
   "outputs": [],
   "source": [
    "vod_anom['VOD1_anom'] = vod_anom['VOD1']-vod_anom['VOD1_mean']\n",
    "vod_anom['VOD2_anom'] = vod_anom['VOD2']-vod_anom['VOD2_mean']"
   ]
  },
  {
   "cell_type": "code",
   "execution_count": null,
   "id": "a6eaf4b2-6963-4618-ac93-74ded96b787c",
   "metadata": {},
   "outputs": [],
   "source": [
    "vod_ts = vod_anom.groupby(pd.Grouper(freq='1h', level='Epoch')).mean()\n",
    "vod_ts"
   ]
  },
  {
   "cell_type": "code",
   "execution_count": null,
   "id": "94a57798-4785-459d-bd67-8b99f0730595",
   "metadata": {},
   "outputs": [],
   "source": [
    "#i export vod_anom because it is what we use for plotting moving forward.\n",
    "vod_anom=vod_anom.reset_index()\n",
    "vod_anom.to_csv('/Volumes/coraldelmar/march_collection/MACROCOSM-5.7/vod_anom.csv', index=False)"
   ]
  }
 ],
 "metadata": {
  "kernelspec": {
   "display_name": "Python 3",
   "language": "python",
   "name": "python3"
  },
  "language_info": {
   "codemirror_mode": {
    "name": "ipython",
    "version": 3
   },
   "file_extension": ".py",
   "mimetype": "text/x-python",
   "name": "python",
   "nbconvert_exporter": "python",
   "pygments_lexer": "ipython3",
   "version": "3.9.6"
  }
 },
 "nbformat": 4,
 "nbformat_minor": 5
}
