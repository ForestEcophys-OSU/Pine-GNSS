{
 "cells": [
  {
   "cell_type": "markdown",
   "id": "ec267637",
   "metadata": {},
   "source": [
    "## Notebook to process GNSS data for each receiver"
   ]
  },
  {
   "cell_type": "markdown",
   "id": "18585dba",
   "metadata": {},
   "source": [
    "### Step 1: Load libraries\n",
    "\n",
    "Chunk that sloads necessary packages & sets working environment to where the jupyterlab notebook file is "
   ]
  },
  {
   "cell_type": "code",
   "execution_count": 1,
   "id": "e53651a1",
   "metadata": {},
   "outputs": [],
   "source": [
    "%load_ext autoreload\n",
    "%autoreload 2\n",
    "import gnssvod as gv\n",
    "import numpy as np\n",
    "import pandas as pd\n",
    "import matplotlib.pyplot as plt\n",
    "import matplotlib.dates as mdates\n",
    "import pdb\n",
    "import importlib\n",
    "import zipfile\n",
    "import os\n",
    "import xarray as xr\n",
    "import glob\n",
    "import shutil\n",
    "from gnssvod.hemistats.hemistats import hemibuild\n",
    "#import georinex as gr\n",
    "#import qgrid as interactive table \n",
    "from matplotlib.collections import PatchCollection\n",
    "import matplotlib.dates as mdates\n",
    "import shutil\n",
    "from matplotlib import rcParams\n",
    "from datetime import datetime, timedelta"
   ]
  },
  {
   "cell_type": "markdown",
   "id": "0a2b3150",
   "metadata": {},
   "source": [
    "### Step 2: Time intervals\n",
    "\n",
    "Set up time intervals for the study period. The argument **periods** represents the number of days from the start day."
   ]
  },
  {
   "cell_type": "code",
   "execution_count": 2,
   "id": "d9aea8fb",
   "metadata": {},
   "outputs": [
    {
     "data": {
      "text/plain": [
       "IntervalIndex([[2025-03-01 00:00:00, 2025-03-02 00:00:00),\n",
       "               [2025-03-02 00:00:00, 2025-03-03 00:00:00),\n",
       "               [2025-03-03 00:00:00, 2025-03-04 00:00:00),\n",
       "               [2025-03-04 00:00:00, 2025-03-05 00:00:00),\n",
       "               [2025-03-05 00:00:00, 2025-03-06 00:00:00),\n",
       "               [2025-03-06 00:00:00, 2025-03-07 00:00:00),\n",
       "               [2025-03-07 00:00:00, 2025-03-08 00:00:00),\n",
       "               [2025-03-08 00:00:00, 2025-03-09 00:00:00),\n",
       "               [2025-03-09 00:00:00, 2025-03-10 00:00:00),\n",
       "               [2025-03-10 00:00:00, 2025-03-11 00:00:00)],\n",
       "              dtype='interval[datetime64[ns], left]')"
      ]
     },
     "execution_count": 2,
     "metadata": {},
     "output_type": "execute_result"
    }
   ],
   "source": [
    "startday = pd.to_datetime('01-03-2025',format='%d-%m-%Y')\n",
    "timeintervals=pd.interval_range(start=startday, periods=10, freq='D', closed='left')\n",
    "timeintervals"
   ]
  },
  {
   "cell_type": "markdown",
   "id": "9930d118",
   "metadata": {},
   "source": [
    "### Step 3: Read RINEX file\n",
    "\n",
    "We then proceed to read RINEX file. This recquires to indicate the location of the file (**pattern**) and the location of the output directory (**outputdir**). Sometimes we could get the following error:\n",
    "\n",
    "ValueError: Missing an approximate antenna position. Provide the argument ‘approx_position’ to preprocess()"
   ]
  },
  {
   "cell_type": "code",
   "execution_count": null,
   "id": "c0138ec2",
   "metadata": {},
   "outputs": [],
   "source": [
    "pattern= {'Reach-2':'/Volumes/coraldelmar/Reach-02_raw_20250322184422.25O'}\n",
    "outputdir={'Reach-2':'/Volumes/coraldelmar/nc/'}\n",
    "#approx_position=[-4705.036,43.000,23011766.990]\n",
    "keepvars=['S1C','S1X','S2C','S2X']\n",
    "#gv.preprocess(pattern,interval='30s',keepvars=keepvars,outputdir=outputdir, approx_position=approx_position)\n",
    "gv.preprocess(pattern,interval='30s',keepvars=keepvars,outputdir=outputdir)"
   ]
  }
 ],
 "metadata": {
  "kernelspec": {
   "display_name": "Python 3",
   "language": "python",
   "name": "python3"
  },
  "language_info": {
   "codemirror_mode": {
    "name": "ipython",
    "version": 3
   },
   "file_extension": ".py",
   "mimetype": "text/x-python",
   "name": "python",
   "nbconvert_exporter": "python",
   "pygments_lexer": "ipython3",
   "version": "3.12.4"
  }
 },
 "nbformat": 4,
 "nbformat_minor": 5
}
