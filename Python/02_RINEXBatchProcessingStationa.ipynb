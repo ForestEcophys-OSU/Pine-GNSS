{
 "cells": [
  {
   "cell_type": "markdown",
   "id": "ec267637",
   "metadata": {},
   "source": [
    "## Notebook to process GNSS data for multiple receivers"
   ]
  },
  {
   "cell_type": "markdown",
   "id": "18585dba",
   "metadata": {},
   "source": [
    "### Step 1: Load libraries\n",
    "\n",
    "Chunk that sloads necessary packages & sets working environment to where the jupyterlab notebook file is "
   ]
  },
  {
   "cell_type": "code",
   "execution_count": 1,
   "id": "e53651a1",
   "metadata": {},
   "outputs": [],
   "source": [
    "%load_ext autoreload\n",
    "%autoreload 2\n",
    "import gnssvod as gv\n",
    "import numpy as np\n",
    "import pandas as pd\n",
    "import matplotlib.pyplot as plt\n",
    "import matplotlib.dates as mdates\n",
    "import pdb\n",
    "import importlib\n",
    "import zipfile\n",
    "import os\n",
    "import xarray as xr\n",
    "import glob\n",
    "import shutil\n",
    "from gnssvod.hemistats.hemistats import hemibuild\n",
    "#import georinex as gr\n",
    "#import qgrid as interactive table \n",
    "from matplotlib.collections import PatchCollection\n",
    "import matplotlib.dates as mdates\n",
    "import shutil\n",
    "from matplotlib import rcParams\n",
    "from datetime import datetime, timedelta"
   ]
  },
  {
   "cell_type": "markdown",
   "id": "0a2b3150",
   "metadata": {},
   "source": [
    "### Step 2: Time intervals\n",
    "\n",
    "Set up time intervals for the study period. The argument **periods** represents the number of days from the start day."
   ]
  },
  {
   "cell_type": "code",
   "execution_count": null,
   "id": "d9aea8fb",
   "metadata": {},
   "outputs": [],
   "source": [
    "# Define the start day\n",
    "startday = pd.to_datetime('21-03-2025', format='%d-%m-%Y')\n",
    "# Generate a range of datetime values\n",
    "timeintervals=pd.interval_range(start=startday, periods=10, freq='D', closed='left')\n",
    "timeintervals"
   ]
  },
  {
   "cell_type": "markdown",
   "id": "9930d118",
   "metadata": {},
   "source": [
    "### Step 3: Read RINEX file\n",
    "\n",
    "We then proceed to read RINEX file. First we will run the snippet of code to perform the pre-processing in python and visualize the dataframe. The **interval** property is resampling the file to reduce it size, from 1 observation per second to one every 15 s.\n",
    "\n",
    "Sometimes we could get the following error:\n",
    "\n",
    "ValueError: Missing an approximate antenna position. Provide the argument ‘approx_position’ to preprocess()"
   ]
  },
  {
   "cell_type": "code",
   "execution_count": null,
   "id": "c0138ec2",
   "metadata": {},
   "outputs": [],
   "source": [
    "pattern = {'YoungPine-2':'/Users/ger/Library/CloudStorage/Box-Box/Project_MetoliusGNSS/VOD/Data/GNSS/extracted/youngpine/youngpine_pheno/Reach_raw_20250311193931.25O'}\n",
    "#approx_position=[-4705.036,43.000,23011766.990]\n",
    "#gv.preprocess(pattern,interval='15s',keepvars=keepvars, approx_position=approx_position)# if you want to use the approximate position after providing coordinates, uncomment this line\n",
    "result = gv.preprocess(pattern,interval='15s',outputresult=True) # preprocess the data and save the result\n",
    "obs = result['YoungPine-2'][0] # create observation object "
   ]
  },
  {
   "cell_type": "markdown",
   "id": "e3779fd1",
   "metadata": {},
   "source": [
    "**Observation objects** contain the following properties\n",
    "\n",
    "- obs.filename = the name of the source file\n",
    "- obs.epoch = a datetime indicate the day at the start of the record\n",
    "- obs.observation = a pandas data frame containing all measurements\n",
    "- obs.approx_position = the approximate receiver position as provided in the RINEX file [X,Y,Z]\n",
    "- obs.receiver_type = the receiver type if provided in the RINEX file\n",
    "- obs.antenna_type = the antenna type if provided in the RINEX file\n",
    "- obs.interval = the measurement frequency in seconds\n",
    "- obs.receiver_clock = the receiver clock if provided in the RINEX file\n",
    "- obs.version = the version of the RINEX file\n",
    "- obs.observation_types = the observation types reported as columns in obs.observation\n",
    "\n",
    "We can look at the day when the record started"
   ]
  },
  {
   "cell_type": "code",
   "execution_count": null,
   "id": "d59682aa",
   "metadata": {},
   "outputs": [],
   "source": [
    "obs = result['YoungPine-2'][0]\n",
    "obs.epoch"
   ]
  },
  {
   "cell_type": "markdown",
   "id": "841094ee",
   "metadata": {},
   "source": [
    "Let's now look at the data:\n",
    "\n",
    "The pandas data frame has a MultIndex that contains both Epoch and SV as indices. The Epoch is the local time of the measurement and the SV is a satellite identification number (also called PRN).\n",
    "\n",
    "The columns correspond to:\n",
    "- C# = Pseudorange from the receiver to the satellite, in meters\n",
    "- L# = Carrier phase, in cycles\n",
    "- D# = Doppler, in Hz\n",
    "- S# = Carrier to noise density C/N_0, in dB (receiver-dependent)\n",
    "And the numbers (S1, S2, etc. ) indicate the corresponding **GNSS frequency**\n",
    "\n",
    "The azimuth and elevation of the satellite with respect to the receiver are expressed in degrees. Computation speed for the azimuth and elevation can vary according to your hardware. Most of the time is spent interpolating the orbit parameters to the time stamps of each measurement. This is why it is sometimes useful to resample high frequency data (here one measurement per second) to for instance one measurement each 15 seconds."
   ]
  },
  {
   "cell_type": "code",
   "execution_count": null,
   "id": "ec523a2d",
   "metadata": {},
   "outputs": [],
   "source": [
    "obs.observation"
   ]
  },
  {
   "cell_type": "markdown",
   "id": "8ed99fbd",
   "metadata": {},
   "source": [
    "### Step 4: Saving processed RINEX file\n",
    "\n",
    "Repeat **Step 3** but instead of creating an object we save the netcdf file in the box folder. This recquires to indicate the location of the file (**pattern**) and the location of the output directory (**outputdir**). "
   ]
  },
  {
   "cell_type": "code",
   "execution_count": null,
   "id": "ad79016a",
   "metadata": {},
   "outputs": [],
   "source": [
    "pattern = {'YoungPine-2':'/Users/ger/Library/CloudStorage/Box-Box/Project_MetoliusGNSS/VOD/Data/GNSS/extracted/youngpine/youngpine_pheno/Reach_raw_20250311193931.25O'}\n",
    "outputdir={'YoungPine-2':'/Users/ger/Library/CloudStorage/Box-Box/Project_MetoliusGNSS/VOD/Data/GNSS/extracted/youngpine/youngpine_pheno/youngpine_pheno_nc/'}\n",
    "#approx_position=[-4705.036,43.000,23011766.990]\n",
    "#gv.preprocess(pattern,interval='15s',keepvars=keepvars,outputdir=outputdir, approx_position=approx_position)# if you want to use the approximate position after providing coordinates, uncomment this line\n",
    "gv.preprocess(pattern,interval='15s',outputdir=outputdir,outputresult=True) # preprocess the data and save the result as a netcdf file"
   ]
  }
 ],
 "metadata": {
  "kernelspec": {
   "display_name": "base",
   "language": "python",
   "name": "python3"
  },
  "language_info": {
   "codemirror_mode": {
    "name": "ipython",
    "version": 3
   },
   "file_extension": ".py",
   "mimetype": "text/x-python",
   "name": "python",
   "nbconvert_exporter": "python",
   "pygments_lexer": "ipython3",
   "version": "3.12.2"
  }
 },
 "nbformat": 4,
 "nbformat_minor": 5
}
