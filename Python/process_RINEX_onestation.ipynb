{
 "cells": [
  {
   "cell_type": "markdown",
   "id": "ec267637",
   "metadata": {},
   "source": [
    "## Notebook to process GNSS data for each receiver"
   ]
  },
  {
   "cell_type": "markdown",
   "id": "18585dba",
   "metadata": {},
   "source": [
    "### Step 1: Load libraries\n",
    "\n",
    "Chunk that sloads necessary packages & sets working environment to where the jupyterlab notebook file is "
   ]
  },
  {
   "cell_type": "code",
   "execution_count": 5,
   "id": "e53651a1",
   "metadata": {},
   "outputs": [
    {
     "name": "stdout",
     "output_type": "stream",
     "text": [
      "The autoreload extension is already loaded. To reload it, use:\n",
      "  %reload_ext autoreload\n"
     ]
    }
   ],
   "source": [
    "%load_ext autoreload\n",
    "%autoreload 2\n",
    "import gnssvod as gv\n",
    "import numpy as np\n",
    "import pandas as pd\n",
    "import matplotlib.pyplot as plt\n",
    "import matplotlib.dates as mdates\n",
    "import pdb\n",
    "import importlib\n",
    "import zipfile\n",
    "import os\n",
    "import xarray as xr\n",
    "import glob\n",
    "import shutil\n",
    "from gnssvod.hemistats.hemistats import hemibuild\n",
    "#import georinex as gr\n",
    "#import qgrid as interactive table \n",
    "from matplotlib.collections import PatchCollection\n",
    "import matplotlib.dates as mdates\n",
    "import shutil\n",
    "from matplotlib import rcParams\n",
    "from datetime import datetime, timedelta"
   ]
  },
  {
   "cell_type": "markdown",
   "id": "0a2b3150",
   "metadata": {},
   "source": [
    "### Step 2: Time intervals\n",
    "\n",
    "Set up time intervals for the study period. The argument **periods** represents the number of days from the start day."
   ]
  },
  {
   "cell_type": "code",
   "execution_count": 7,
   "id": "d9aea8fb",
   "metadata": {},
   "outputs": [
    {
     "data": {
      "text/plain": [
       "IntervalIndex([[2025-03-01 00:00:00, 2025-03-02 00:00:00),\n",
       "               [2025-03-02 00:00:00, 2025-03-03 00:00:00),\n",
       "               [2025-03-03 00:00:00, 2025-03-04 00:00:00),\n",
       "               [2025-03-04 00:00:00, 2025-03-05 00:00:00),\n",
       "               [2025-03-05 00:00:00, 2025-03-06 00:00:00),\n",
       "               [2025-03-06 00:00:00, 2025-03-07 00:00:00),\n",
       "               [2025-03-07 00:00:00, 2025-03-08 00:00:00),\n",
       "               [2025-03-08 00:00:00, 2025-03-09 00:00:00),\n",
       "               [2025-03-09 00:00:00, 2025-03-10 00:00:00),\n",
       "               [2025-03-10 00:00:00, 2025-03-11 00:00:00),\n",
       "               ...\n",
       "               [2025-07-19 00:00:00, 2025-07-20 00:00:00),\n",
       "               [2025-07-20 00:00:00, 2025-07-21 00:00:00),\n",
       "               [2025-07-21 00:00:00, 2025-07-22 00:00:00),\n",
       "               [2025-07-22 00:00:00, 2025-07-23 00:00:00),\n",
       "               [2025-07-23 00:00:00, 2025-07-24 00:00:00),\n",
       "               [2025-07-24 00:00:00, 2025-07-25 00:00:00),\n",
       "               [2025-07-25 00:00:00, 2025-07-26 00:00:00),\n",
       "               [2025-07-26 00:00:00, 2025-07-27 00:00:00),\n",
       "               [2025-07-27 00:00:00, 2025-07-28 00:00:00),\n",
       "               [2025-07-28 00:00:00, 2025-07-29 00:00:00)],\n",
       "              dtype='interval[datetime64[ns], left]', length=150)"
      ]
     },
     "execution_count": 7,
     "metadata": {},
     "output_type": "execute_result"
    }
   ],
   "source": [
    "startday = pd.to_datetime('01-03-2025',format='%d-%m-%Y')\n",
    "timeintervals=pd.interval_range(start=startday, periods=150, freq='D', closed='left')\n",
    "timeintervals"
   ]
  },
  {
   "cell_type": "markdown",
   "id": "9930d118",
   "metadata": {},
   "source": [
    "### Step 3: Read RINEX file\n",
    "\n",
    "We then proceed to read RINEX file. This recquires to indicate the location of the file (**pattern**) and the location of the output directory (**outputdir**). Sometimes we could get the following error:\n",
    "\n",
    "ValueError: Missing an approximate antenna position. Provide the argument ‘approx_position’ to preprocess()"
   ]
  },
  {
   "cell_type": "code",
   "execution_count": null,
   "id": "8d55bccf",
   "metadata": {},
   "outputs": [],
   "source": [
    "# option for batch processing, example with my files- again, approx-position is for an error\n",
    "#batch processing for one station\n",
    "pattern= {'YoungPine-1':'/Users/coopercollins/Box/Project_MetoliusGNSS/VOD/Data/GNSS/extracted/youngpine/youngpine_tower/*.*O'}\n",
    "outputdir={'YoungPine-1':'/Users/coopercollins/Box/Project_MetoliusGNSS/VOD/Data/GNSS/extracted/youngpine/youngpine_tower/youngpine_tower_nc/'  }\n",
    "#approx_position=[2481170.8276 -5525721.2902,1992311.7021 ]\n",
    "keepvars=['S?','S??']\n",
    "#gv.preprocess(pattern,interval='15s',keepvars=keepvars,outputdir=outputdir,approx_position=approx_position)\n",
    "gv.preprocess(pattern,interval='15s',keepvars=keepvars,outputdir=outputdir)\n"
   ]
  }
 ],
 "metadata": {
  "kernelspec": {
   "display_name": "Python 3",
   "language": "python",
   "name": "python3"
  },
  "language_info": {
   "codemirror_mode": {
    "name": "ipython",
    "version": 3
   },
   "file_extension": ".py",
   "mimetype": "text/x-python",
   "name": "python",
   "nbconvert_exporter": "python",
   "pygments_lexer": "ipython3",
   "version": "3.9.6"
  }
 },
 "nbformat": 4,
 "nbformat_minor": 5
}
