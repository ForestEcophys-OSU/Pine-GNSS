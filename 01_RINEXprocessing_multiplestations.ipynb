{
 "cells": [
  {
   "cell_type": "markdown",
   "id": "ec267637",
   "metadata": {},
   "source": [
    "## Notebook to process GNSS data for each receiver"
   ]
  },
  {
   "cell_type": "markdown",
   "id": "18585dba",
   "metadata": {},
   "source": [
    "### Step 1: Load libraries\n",
    "\n",
    "Chunk that sloads necessary packages & sets working environment to where the jupyterlab notebook file is "
   ]
  },
  {
   "cell_type": "code",
   "execution_count": 2,
   "id": "e53651a1",
   "metadata": {},
   "outputs": [],
   "source": [
    "%load_ext autoreload\n",
    "%autoreload 2\n",
    "import gnssvod as gv\n",
    "import numpy as np\n",
    "import pandas as pd\n",
    "import matplotlib.pyplot as plt\n",
    "import matplotlib.dates as mdates\n",
    "import pdb\n",
    "import importlib\n",
    "import zipfile\n",
    "import os\n",
    "import xarray as xr\n",
    "import glob\n",
    "import shutil\n",
    "from gnssvod.hemistats.hemistats import hemibuild\n",
    "#import georinex as gr\n",
    "#import qgrid as interactive table \n",
    "from matplotlib.collections import PatchCollection\n",
    "import matplotlib.dates as mdates\n",
    "import shutil\n",
    "from matplotlib import rcParams\n",
    "from datetime import datetime, timedelta"
   ]
  },
  {
   "cell_type": "markdown",
   "id": "0a2b3150",
   "metadata": {},
   "source": [
    "### Step 2: Time intervals\n",
    "\n",
    "Set up time intervals for the study period. The argument **periods** represents the number of days from the start day."
   ]
  },
  {
   "cell_type": "code",
   "execution_count": 3,
   "id": "d9aea8fb",
   "metadata": {},
   "outputs": [
    {
     "data": {
      "text/plain": [
       "IntervalIndex([[2025-03-01 00:00:00, 2025-03-02 00:00:00),\n",
       "               [2025-03-02 00:00:00, 2025-03-03 00:00:00),\n",
       "               [2025-03-03 00:00:00, 2025-03-04 00:00:00),\n",
       "               [2025-03-04 00:00:00, 2025-03-05 00:00:00),\n",
       "               [2025-03-05 00:00:00, 2025-03-06 00:00:00),\n",
       "               [2025-03-06 00:00:00, 2025-03-07 00:00:00),\n",
       "               [2025-03-07 00:00:00, 2025-03-08 00:00:00),\n",
       "               [2025-03-08 00:00:00, 2025-03-09 00:00:00),\n",
       "               [2025-03-09 00:00:00, 2025-03-10 00:00:00),\n",
       "               [2025-03-10 00:00:00, 2025-03-11 00:00:00)],\n",
       "              dtype='interval[datetime64[ns], left]')"
      ]
     },
     "execution_count": 3,
     "metadata": {},
     "output_type": "execute_result"
    }
   ],
   "source": [
    "startday = pd.to_datetime('01-03-2025',format='%d-%m-%Y')\n",
    "timeintervals=pd.interval_range(start=startday, periods=10, freq='D', closed='left')\n",
    "timeintervals"
   ]
  },
  {
   "cell_type": "markdown",
   "id": "9930d118",
   "metadata": {},
   "source": [
    "### Step 3: Read RINEX files\n",
    "\n",
    "We then proceed to read the RINEX files. This recquires to indicate the location of the files (**pattern**) and the location of the output directory (**outputdir**). Sometimes we could get the following error:\n",
    "\n",
    "ValueError: Missing an approximate antenna position. Provide the argument ‘approx_position’ to preprocess()\n",
    "\n",
    "Make sure to update to your own path."
   ]
  },
  {
   "cell_type": "code",
   "execution_count": 3,
   "id": "8d55bccf",
   "metadata": {},
   "outputs": [
    {
     "name": "stdout",
     "output_type": "stream",
     "text": [
      "Created a temporary directory at /var/folders/zy/x63zv75j4zxbjxjc77btggbr0000gt/T/tmpyo30vvfn\n",
      "Reach_raw_20250311193931.nc already exists, skipping.. (pass overwrite=True to overwrite)\n",
      "/Users/coopercollins/Box/Project_MetoliusGNSS/VOD/Data/GNSS/extracted/youngpine/youngpine_pheno/Reach_raw_20250328193951.25O exists | Reading...\n",
      "Observation file  /Users/coopercollins/Box/Project_MetoliusGNSS/VOD/Data/GNSS/extracted/youngpine/youngpine_pheno/Reach_raw_20250328193951.25O  is read in 37.46 seconds.\n",
      "Processing 3043179 individual observations\n",
      "Calculating Azimuth and Elevation\n",
      "This file does not exist: /var/folders/zy/x63zv75j4zxbjxjc77btggbr0000gt/T/tmpyo30vvfn/GFZ0MGXRAP_20250870000_01D_05M_ORB.SP3\n",
      "Downloading: ftp://gssc.esa.int/gnss/products/2359//GFZ0MGXRAP_20250870000_01D_05M_ORB.SP3.gz"
     ]
    },
    {
     "name": "stderr",
     "output_type": "stream",
     "text": [
      "GFZ0MGXRAP_20250870000_01D_05M_ORB.SP3.gz: 1.05MB [00:02, 385kB/s]                             \n"
     ]
    },
    {
     "name": "stdout",
     "output_type": "stream",
     "text": [
      " | Download completed for ftp://gssc.esa.int/gnss/products/2359//GFZ0MGXRAP_20250870000_01D_05M_ORB.SP3.gz\n",
      "/var/folders/zy/x63zv75j4zxbjxjc77btggbr0000gt/T/tmpyo30vvfn/GFZ0MGXRAP_20250870000_01D_05M_ORB.SP3 file is read in 3.20 seconds\n",
      "This file does not exist: /var/folders/zy/x63zv75j4zxbjxjc77btggbr0000gt/T/tmpyo30vvfn/GFZ0MGXRAP_20250880000_01D_05M_ORB.SP3\n",
      "Downloading: ftp://gssc.esa.int/gnss/products/2359//GFZ0MGXRAP_20250880000_01D_05M_ORB.SP3.gz"
     ]
    },
    {
     "name": "stderr",
     "output_type": "stream",
     "text": [
      "GFZ0MGXRAP_20250880000_01D_05M_ORB.SP3.gz: 1.05MB [00:02, 389kB/s]                             \n"
     ]
    },
    {
     "name": "stdout",
     "output_type": "stream",
     "text": [
      " | Download completed for ftp://gssc.esa.int/gnss/products/2359//GFZ0MGXRAP_20250880000_01D_05M_ORB.SP3.gz\n",
      "/var/folders/zy/x63zv75j4zxbjxjc77btggbr0000gt/T/tmpyo30vvfn/GFZ0MGXRAP_20250880000_01D_05M_ORB.SP3 file is read in 3.09 seconds\n",
      "This file does not exist: /var/folders/zy/x63zv75j4zxbjxjc77btggbr0000gt/T/tmpyo30vvfn/GFZ0MGXRAP_20250870000_01D_30S_CLK.CLK\n",
      "Downloading: GFZ0MGXRAP_20250870000_01D_30S_CLK.CLK.gz"
     ]
    },
    {
     "name": "stderr",
     "output_type": "stream",
     "text": [
      "GFZ0MGXRAP_20250870000_01D_30S_CLK.CLK.gz: 4.84MB [00:04, 1.08MB/s]                            \n"
     ]
    },
    {
     "name": "stdout",
     "output_type": "stream",
     "text": [
      " | Download completed for GFZ0MGXRAP_20250870000_01D_30S_CLK.CLK.gz\n",
      "/var/folders/zy/x63zv75j4zxbjxjc77btggbr0000gt/T/tmpyo30vvfn/GFZ0MGXRAP_20250870000_01D_30S_CLK.CLK file is read in 1.10 seconds\n",
      "This file does not exist: /var/folders/zy/x63zv75j4zxbjxjc77btggbr0000gt/T/tmpyo30vvfn/GFZ0MGXRAP_20250880000_01D_30S_CLK.CLK\n",
      "Downloading: GFZ0MGXRAP_20250880000_01D_30S_CLK.CLK.gz"
     ]
    },
    {
     "name": "stderr",
     "output_type": "stream",
     "text": [
      "GFZ0MGXRAP_20250880000_01D_30S_CLK.CLK.gz: 4.85MB [00:04, 1.13MB/s]                            \n"
     ]
    },
    {
     "name": "stdout",
     "output_type": "stream",
     "text": [
      " | Download completed for GFZ0MGXRAP_20250880000_01D_30S_CLK.CLK.gz\n",
      "/var/folders/zy/x63zv75j4zxbjxjc77btggbr0000gt/T/tmpyo30vvfn/GFZ0MGXRAP_20250880000_01D_30S_CLK.CLK file is read in 1.09 seconds\n",
      "SP3 interpolation is done in 1.76 seconds\n",
      "Saved 102782 individual observations in /Users/coopercollins/Box/Project_MetoliusGNSS/VOD/Data/GNSS/extracted/youngpine/youngpine_pheno/youngpine_pheno_nc/Reach_raw_20250328193951.nc\n",
      "/Users/coopercollins/Box/Project_MetoliusGNSS/VOD/Data/GNSS/extracted/youngpine/youngpine_pheno/Reach_raw_20250326193949.25O exists | Reading...\n",
      "Observation file  /Users/coopercollins/Box/Project_MetoliusGNSS/VOD/Data/GNSS/extracted/youngpine/youngpine_pheno/Reach_raw_20250326193949.25O  is read in 37.22 seconds.\n",
      "Processing 3054009 individual observations\n",
      "Calculating Azimuth and Elevation\n",
      "This file does not exist: /var/folders/zy/x63zv75j4zxbjxjc77btggbr0000gt/T/tmpyo30vvfn/GFZ0MGXRAP_20250850000_01D_05M_ORB.SP3\n",
      "Downloading: ftp://gssc.esa.int/gnss/products/2359//GFZ0MGXRAP_20250850000_01D_05M_ORB.SP3.gz"
     ]
    },
    {
     "name": "stderr",
     "output_type": "stream",
     "text": [
      "GFZ0MGXRAP_20250850000_01D_05M_ORB.SP3.gz: 1.06MB [00:02, 388kB/s]                             \n"
     ]
    },
    {
     "name": "stdout",
     "output_type": "stream",
     "text": [
      " | Download completed for ftp://gssc.esa.int/gnss/products/2359//GFZ0MGXRAP_20250850000_01D_05M_ORB.SP3.gz\n",
      "/var/folders/zy/x63zv75j4zxbjxjc77btggbr0000gt/T/tmpyo30vvfn/GFZ0MGXRAP_20250850000_01D_05M_ORB.SP3 file is read in 3.16 seconds\n",
      "This file does not exist: /var/folders/zy/x63zv75j4zxbjxjc77btggbr0000gt/T/tmpyo30vvfn/GFZ0MGXRAP_20250860000_01D_05M_ORB.SP3\n",
      "Downloading: ftp://gssc.esa.int/gnss/products/2359//GFZ0MGXRAP_20250860000_01D_05M_ORB.SP3.gz"
     ]
    },
    {
     "name": "stderr",
     "output_type": "stream",
     "text": [
      "GFZ0MGXRAP_20250860000_01D_05M_ORB.SP3.gz: 1.05MB [00:02, 370kB/s]                             \n"
     ]
    },
    {
     "name": "stdout",
     "output_type": "stream",
     "text": [
      " | Download completed for ftp://gssc.esa.int/gnss/products/2359//GFZ0MGXRAP_20250860000_01D_05M_ORB.SP3.gz\n",
      "/var/folders/zy/x63zv75j4zxbjxjc77btggbr0000gt/T/tmpyo30vvfn/GFZ0MGXRAP_20250860000_01D_05M_ORB.SP3 file is read in 3.24 seconds\n",
      "This file does not exist: /var/folders/zy/x63zv75j4zxbjxjc77btggbr0000gt/T/tmpyo30vvfn/GFZ0MGXRAP_20250850000_01D_30S_CLK.CLK\n",
      "Downloading: GFZ0MGXRAP_20250850000_01D_30S_CLK.CLK.gz"
     ]
    },
    {
     "name": "stderr",
     "output_type": "stream",
     "text": [
      "GFZ0MGXRAP_20250850000_01D_30S_CLK.CLK.gz: 4.89MB [00:05, 980kB/s]                             \n"
     ]
    },
    {
     "name": "stdout",
     "output_type": "stream",
     "text": [
      " | Download completed for GFZ0MGXRAP_20250850000_01D_30S_CLK.CLK.gz\n",
      "/var/folders/zy/x63zv75j4zxbjxjc77btggbr0000gt/T/tmpyo30vvfn/GFZ0MGXRAP_20250850000_01D_30S_CLK.CLK file is read in 1.16 seconds\n",
      "This file does not exist: /var/folders/zy/x63zv75j4zxbjxjc77btggbr0000gt/T/tmpyo30vvfn/GFZ0MGXRAP_20250860000_01D_30S_CLK.CLK\n",
      "Downloading: GFZ0MGXRAP_20250860000_01D_30S_CLK.CLK.gz"
     ]
    },
    {
     "name": "stderr",
     "output_type": "stream",
     "text": [
      "GFZ0MGXRAP_20250860000_01D_30S_CLK.CLK.gz: 4.84MB [00:04, 1.06MB/s]                            \n"
     ]
    },
    {
     "name": "stdout",
     "output_type": "stream",
     "text": [
      " | Download completed for GFZ0MGXRAP_20250860000_01D_30S_CLK.CLK.gz\n",
      "/var/folders/zy/x63zv75j4zxbjxjc77btggbr0000gt/T/tmpyo30vvfn/GFZ0MGXRAP_20250860000_01D_30S_CLK.CLK file is read in 1.13 seconds\n",
      "SP3 interpolation is done in 0.82 seconds\n",
      "Saved 103195 individual observations in /Users/coopercollins/Box/Project_MetoliusGNSS/VOD/Data/GNSS/extracted/youngpine/youngpine_pheno/youngpine_pheno_nc/Reach_raw_20250326193949.nc\n",
      "/Users/coopercollins/Box/Project_MetoliusGNSS/VOD/Data/GNSS/extracted/youngpine/youngpine_pheno/Reach_raw_20250331193954.25O exists | Reading...\n",
      "Observation file  /Users/coopercollins/Box/Project_MetoliusGNSS/VOD/Data/GNSS/extracted/youngpine/youngpine_pheno/Reach_raw_20250331193954.25O  is read in 37.39 seconds.\n",
      "Processing 3061307 individual observations\n",
      "Calculating Azimuth and Elevation\n",
      "This file does not exist: /var/folders/zy/x63zv75j4zxbjxjc77btggbr0000gt/T/tmpyo30vvfn/GFZ0MGXRAP_20250900000_01D_05M_ORB.SP3\n",
      "Downloading: ftp://gssc.esa.int/gnss/products/2360//GFZ0MGXRAP_20250900000_01D_05M_ORB.SP3.gz"
     ]
    },
    {
     "name": "stderr",
     "output_type": "stream",
     "text": [
      "GFZ0MGXRAP_20250900000_01D_05M_ORB.SP3.gz: 1.05MB [00:02, 396kB/s]                             \n"
     ]
    },
    {
     "name": "stdout",
     "output_type": "stream",
     "text": [
      " | Download completed for ftp://gssc.esa.int/gnss/products/2360//GFZ0MGXRAP_20250900000_01D_05M_ORB.SP3.gz\n",
      "/var/folders/zy/x63zv75j4zxbjxjc77btggbr0000gt/T/tmpyo30vvfn/GFZ0MGXRAP_20250900000_01D_05M_ORB.SP3 file is read in 4.12 seconds\n",
      "This file does not exist: /var/folders/zy/x63zv75j4zxbjxjc77btggbr0000gt/T/tmpyo30vvfn/GFZ0MGXRAP_20250910000_01D_05M_ORB.SP3\n",
      "Downloading: ftp://gssc.esa.int/gnss/products/2360//GFZ0MGXRAP_20250910000_01D_05M_ORB.SP3.gz"
     ]
    },
    {
     "name": "stderr",
     "output_type": "stream",
     "text": [
      "GFZ0MGXRAP_20250910000_01D_05M_ORB.SP3.gz: 1.05MB [00:02, 421kB/s]                             \n"
     ]
    },
    {
     "name": "stdout",
     "output_type": "stream",
     "text": [
      " | Download completed for ftp://gssc.esa.int/gnss/products/2360//GFZ0MGXRAP_20250910000_01D_05M_ORB.SP3.gz\n",
      "/var/folders/zy/x63zv75j4zxbjxjc77btggbr0000gt/T/tmpyo30vvfn/GFZ0MGXRAP_20250910000_01D_05M_ORB.SP3 file is read in 2.93 seconds\n",
      "This file does not exist: /var/folders/zy/x63zv75j4zxbjxjc77btggbr0000gt/T/tmpyo30vvfn/GFZ0MGXRAP_20250900000_01D_30S_CLK.CLK\n",
      "Downloading: GFZ0MGXRAP_20250900000_01D_30S_CLK.CLK.gz"
     ]
    },
    {
     "name": "stderr",
     "output_type": "stream",
     "text": [
      "GFZ0MGXRAP_20250900000_01D_30S_CLK.CLK.gz: 4.79MB [00:04, 1.12MB/s]                            \n"
     ]
    },
    {
     "name": "stdout",
     "output_type": "stream",
     "text": [
      " | Download completed for GFZ0MGXRAP_20250900000_01D_30S_CLK.CLK.gz\n",
      "/var/folders/zy/x63zv75j4zxbjxjc77btggbr0000gt/T/tmpyo30vvfn/GFZ0MGXRAP_20250900000_01D_30S_CLK.CLK file is read in 1.18 seconds\n",
      "This file does not exist: /var/folders/zy/x63zv75j4zxbjxjc77btggbr0000gt/T/tmpyo30vvfn/GFZ0MGXRAP_20250910000_01D_30S_CLK.CLK\n",
      "Downloading: GFZ0MGXRAP_20250910000_01D_30S_CLK.CLK.gz"
     ]
    },
    {
     "name": "stderr",
     "output_type": "stream",
     "text": [
      "GFZ0MGXRAP_20250910000_01D_30S_CLK.CLK.gz: 4.79MB [00:04, 1.10MB/s]                            \n"
     ]
    },
    {
     "name": "stdout",
     "output_type": "stream",
     "text": [
      " | Download completed for GFZ0MGXRAP_20250910000_01D_30S_CLK.CLK.gz\n",
      "/var/folders/zy/x63zv75j4zxbjxjc77btggbr0000gt/T/tmpyo30vvfn/GFZ0MGXRAP_20250910000_01D_30S_CLK.CLK file is read in 1.13 seconds\n",
      "SP3 interpolation is done in 0.83 seconds\n",
      "Saved 103452 individual observations in /Users/coopercollins/Box/Project_MetoliusGNSS/VOD/Data/GNSS/extracted/youngpine/youngpine_pheno/youngpine_pheno_nc/Reach_raw_20250331193954.nc\n",
      "/Users/coopercollins/Box/Project_MetoliusGNSS/VOD/Data/GNSS/extracted/youngpine/youngpine_pheno/Reach_raw_20250323193945.25O exists | Reading...\n",
      "Observation file  /Users/coopercollins/Box/Project_MetoliusGNSS/VOD/Data/GNSS/extracted/youngpine/youngpine_pheno/Reach_raw_20250323193945.25O  is read in 37.46 seconds.\n",
      "Processing 3084661 individual observations\n",
      "Calculating Azimuth and Elevation\n",
      "This file does not exist: /var/folders/zy/x63zv75j4zxbjxjc77btggbr0000gt/T/tmpyo30vvfn/GFZ0MGXRAP_20250820000_01D_05M_ORB.SP3\n",
      "Downloading: ftp://gssc.esa.int/gnss/products/2359//GFZ0MGXRAP_20250820000_01D_05M_ORB.SP3.gz"
     ]
    },
    {
     "name": "stderr",
     "output_type": "stream",
     "text": [
      "GFZ0MGXRAP_20250820000_01D_05M_ORB.SP3.gz: 1.05MB [00:02, 393kB/s]                             \n"
     ]
    },
    {
     "name": "stdout",
     "output_type": "stream",
     "text": [
      " | Download completed for ftp://gssc.esa.int/gnss/products/2359//GFZ0MGXRAP_20250820000_01D_05M_ORB.SP3.gz\n",
      "/var/folders/zy/x63zv75j4zxbjxjc77btggbr0000gt/T/tmpyo30vvfn/GFZ0MGXRAP_20250820000_01D_05M_ORB.SP3 file is read in 3.11 seconds\n",
      "This file does not exist: /var/folders/zy/x63zv75j4zxbjxjc77btggbr0000gt/T/tmpyo30vvfn/GFZ0MGXRAP_20250830000_01D_05M_ORB.SP3\n",
      "Downloading: ftp://gssc.esa.int/gnss/products/2359//GFZ0MGXRAP_20250830000_01D_05M_ORB.SP3.gz"
     ]
    },
    {
     "name": "stderr",
     "output_type": "stream",
     "text": [
      "GFZ0MGXRAP_20250830000_01D_05M_ORB.SP3.gz: 1.05MB [00:02, 412kB/s]                             \n"
     ]
    },
    {
     "name": "stdout",
     "output_type": "stream",
     "text": [
      " | Download completed for ftp://gssc.esa.int/gnss/products/2359//GFZ0MGXRAP_20250830000_01D_05M_ORB.SP3.gz\n",
      "/var/folders/zy/x63zv75j4zxbjxjc77btggbr0000gt/T/tmpyo30vvfn/GFZ0MGXRAP_20250830000_01D_05M_ORB.SP3 file is read in 2.93 seconds\n",
      "This file does not exist: /var/folders/zy/x63zv75j4zxbjxjc77btggbr0000gt/T/tmpyo30vvfn/GFZ0MGXRAP_20250820000_01D_30S_CLK.CLK\n",
      "Downloading: GFZ0MGXRAP_20250820000_01D_30S_CLK.CLK.gz"
     ]
    },
    {
     "name": "stderr",
     "output_type": "stream",
     "text": [
      "GFZ0MGXRAP_20250820000_01D_30S_CLK.CLK.gz: 4.88MB [00:05, 1.02MB/s]                            \n"
     ]
    },
    {
     "name": "stdout",
     "output_type": "stream",
     "text": [
      " | Download completed for GFZ0MGXRAP_20250820000_01D_30S_CLK.CLK.gz\n",
      "/var/folders/zy/x63zv75j4zxbjxjc77btggbr0000gt/T/tmpyo30vvfn/GFZ0MGXRAP_20250820000_01D_30S_CLK.CLK file is read in 1.17 seconds\n",
      "This file does not exist: /var/folders/zy/x63zv75j4zxbjxjc77btggbr0000gt/T/tmpyo30vvfn/GFZ0MGXRAP_20250830000_01D_30S_CLK.CLK\n",
      "Downloading: GFZ0MGXRAP_20250830000_01D_30S_CLK.CLK.gz"
     ]
    },
    {
     "name": "stderr",
     "output_type": "stream",
     "text": [
      "GFZ0MGXRAP_20250830000_01D_30S_CLK.CLK.gz: 4.84MB [00:05, 870kB/s]                             \n"
     ]
    },
    {
     "name": "stdout",
     "output_type": "stream",
     "text": [
      " | Download completed for GFZ0MGXRAP_20250830000_01D_30S_CLK.CLK.gz\n",
      "/var/folders/zy/x63zv75j4zxbjxjc77btggbr0000gt/T/tmpyo30vvfn/GFZ0MGXRAP_20250830000_01D_30S_CLK.CLK file is read in 1.19 seconds\n",
      "SP3 interpolation is done in 0.84 seconds\n",
      "Saved 104158 individual observations in /Users/coopercollins/Box/Project_MetoliusGNSS/VOD/Data/GNSS/extracted/youngpine/youngpine_pheno/youngpine_pheno_nc/Reach_raw_20250323193945.nc\n",
      "/Users/coopercollins/Box/Project_MetoliusGNSS/VOD/Data/GNSS/extracted/youngpine/youngpine_pheno/Reach_raw_20250324193947.25O exists | Reading...\n",
      "Observation file  /Users/coopercollins/Box/Project_MetoliusGNSS/VOD/Data/GNSS/extracted/youngpine/youngpine_pheno/Reach_raw_20250324193947.25O  is read in 37.82 seconds.\n",
      "Processing 3089258 individual observations\n",
      "Calculating Azimuth and Elevation\n",
      "/var/folders/zy/x63zv75j4zxbjxjc77btggbr0000gt/T/tmpyo30vvfn/GFZ0MGXRAP_20250830000_01D_05M_ORB.SP3 exists | Reading...\n",
      "/var/folders/zy/x63zv75j4zxbjxjc77btggbr0000gt/T/tmpyo30vvfn/GFZ0MGXRAP_20250830000_01D_05M_ORB.SP3 file is read in 0.19 seconds\n",
      "This file does not exist: /var/folders/zy/x63zv75j4zxbjxjc77btggbr0000gt/T/tmpyo30vvfn/GFZ0MGXRAP_20250840000_01D_05M_ORB.SP3\n",
      "Downloading: ftp://gssc.esa.int/gnss/products/2359//GFZ0MGXRAP_20250840000_01D_05M_ORB.SP3.gz"
     ]
    },
    {
     "name": "stderr",
     "output_type": "stream",
     "text": [
      "GFZ0MGXRAP_20250840000_01D_05M_ORB.SP3.gz: 1.06MB [00:02, 449kB/s]                             \n"
     ]
    },
    {
     "name": "stdout",
     "output_type": "stream",
     "text": [
      " | Download completed for ftp://gssc.esa.int/gnss/products/2359//GFZ0MGXRAP_20250840000_01D_05M_ORB.SP3.gz\n",
      "/var/folders/zy/x63zv75j4zxbjxjc77btggbr0000gt/T/tmpyo30vvfn/GFZ0MGXRAP_20250840000_01D_05M_ORB.SP3 file is read in 2.77 seconds\n",
      "/var/folders/zy/x63zv75j4zxbjxjc77btggbr0000gt/T/tmpyo30vvfn/GFZ0MGXRAP_20250830000_01D_30S_CLK.CLK exists | Reading...\n",
      "/var/folders/zy/x63zv75j4zxbjxjc77btggbr0000gt/T/tmpyo30vvfn/GFZ0MGXRAP_20250830000_01D_30S_CLK.CLK file is read in 1.08 seconds\n",
      "This file does not exist: /var/folders/zy/x63zv75j4zxbjxjc77btggbr0000gt/T/tmpyo30vvfn/GFZ0MGXRAP_20250840000_01D_30S_CLK.CLK\n",
      "Downloading: GFZ0MGXRAP_20250840000_01D_30S_CLK.CLK.gz"
     ]
    },
    {
     "name": "stderr",
     "output_type": "stream",
     "text": [
      "GFZ0MGXRAP_20250840000_01D_30S_CLK.CLK.gz: 4.87MB [00:04, 1.05MB/s]                            \n"
     ]
    },
    {
     "name": "stdout",
     "output_type": "stream",
     "text": [
      " | Download completed for GFZ0MGXRAP_20250840000_01D_30S_CLK.CLK.gz\n",
      "/var/folders/zy/x63zv75j4zxbjxjc77btggbr0000gt/T/tmpyo30vvfn/GFZ0MGXRAP_20250840000_01D_30S_CLK.CLK file is read in 1.19 seconds\n",
      "SP3 interpolation is done in 0.82 seconds\n",
      "Saved 104269 individual observations in /Users/coopercollins/Box/Project_MetoliusGNSS/VOD/Data/GNSS/extracted/youngpine/youngpine_pheno/youngpine_pheno_nc/Reach_raw_20250324193947.nc\n",
      "/Users/coopercollins/Box/Project_MetoliusGNSS/VOD/Data/GNSS/extracted/youngpine/youngpine_pheno/Reach_raw_20250330193953.25O exists | Reading...\n",
      "Observation file  /Users/coopercollins/Box/Project_MetoliusGNSS/VOD/Data/GNSS/extracted/youngpine/youngpine_pheno/Reach_raw_20250330193953.25O  is read in 38.06 seconds.\n",
      "Processing 3094655 individual observations\n",
      "Calculating Azimuth and Elevation\n",
      "This file does not exist: /var/folders/zy/x63zv75j4zxbjxjc77btggbr0000gt/T/tmpyo30vvfn/GFZ0MGXRAP_20250890000_01D_05M_ORB.SP3\n",
      "Downloading: ftp://gssc.esa.int/gnss/products/2360//GFZ0MGXRAP_20250890000_01D_05M_ORB.SP3.gz"
     ]
    },
    {
     "name": "stderr",
     "output_type": "stream",
     "text": [
      "GFZ0MGXRAP_20250890000_01D_05M_ORB.SP3.gz: 1.05MB [00:02, 378kB/s]                             \n"
     ]
    },
    {
     "name": "stdout",
     "output_type": "stream",
     "text": [
      " | Download completed for ftp://gssc.esa.int/gnss/products/2360//GFZ0MGXRAP_20250890000_01D_05M_ORB.SP3.gz\n",
      "/var/folders/zy/x63zv75j4zxbjxjc77btggbr0000gt/T/tmpyo30vvfn/GFZ0MGXRAP_20250890000_01D_05M_ORB.SP3 file is read in 3.21 seconds\n",
      "/var/folders/zy/x63zv75j4zxbjxjc77btggbr0000gt/T/tmpyo30vvfn/GFZ0MGXRAP_20250900000_01D_05M_ORB.SP3 exists | Reading...\n",
      "/var/folders/zy/x63zv75j4zxbjxjc77btggbr0000gt/T/tmpyo30vvfn/GFZ0MGXRAP_20250900000_01D_05M_ORB.SP3 file is read in 0.19 seconds\n",
      "This file does not exist: /var/folders/zy/x63zv75j4zxbjxjc77btggbr0000gt/T/tmpyo30vvfn/GFZ0MGXRAP_20250890000_01D_30S_CLK.CLK\n",
      "Downloading: GFZ0MGXRAP_20250890000_01D_30S_CLK.CLK.gz"
     ]
    },
    {
     "name": "stderr",
     "output_type": "stream",
     "text": [
      "GFZ0MGXRAP_20250890000_01D_30S_CLK.CLK.gz: 4.81MB [00:07, 676kB/s]                             \n"
     ]
    },
    {
     "name": "stdout",
     "output_type": "stream",
     "text": [
      " | Download completed for GFZ0MGXRAP_20250890000_01D_30S_CLK.CLK.gz\n",
      "/var/folders/zy/x63zv75j4zxbjxjc77btggbr0000gt/T/tmpyo30vvfn/GFZ0MGXRAP_20250890000_01D_30S_CLK.CLK file is read in 1.15 seconds\n",
      "/var/folders/zy/x63zv75j4zxbjxjc77btggbr0000gt/T/tmpyo30vvfn/GFZ0MGXRAP_20250900000_01D_30S_CLK.CLK exists | Reading...\n",
      "/var/folders/zy/x63zv75j4zxbjxjc77btggbr0000gt/T/tmpyo30vvfn/GFZ0MGXRAP_20250900000_01D_30S_CLK.CLK file is read in 1.15 seconds\n",
      "SP3 interpolation is done in 0.81 seconds\n",
      "Saved 104825 individual observations in /Users/coopercollins/Box/Project_MetoliusGNSS/VOD/Data/GNSS/extracted/youngpine/youngpine_pheno/youngpine_pheno_nc/Reach_raw_20250330193953.nc\n",
      "/Users/coopercollins/Box/Project_MetoliusGNSS/VOD/Data/GNSS/extracted/youngpine/youngpine_pheno/Reach_raw_20250316193937.25O exists | Reading...\n",
      "Observation file  /Users/coopercollins/Box/Project_MetoliusGNSS/VOD/Data/GNSS/extracted/youngpine/youngpine_pheno/Reach_raw_20250316193937.25O  is read in 37.79 seconds.\n",
      "Processing 3091295 individual observations\n",
      "Calculating Azimuth and Elevation\n",
      "This file does not exist: /var/folders/zy/x63zv75j4zxbjxjc77btggbr0000gt/T/tmpyo30vvfn/GFZ0MGXRAP_20250750000_01D_05M_ORB.SP3\n",
      "Downloading: ftp://gssc.esa.int/gnss/products/2358//GFZ0MGXRAP_20250750000_01D_05M_ORB.SP3.gz"
     ]
    },
    {
     "name": "stderr",
     "output_type": "stream",
     "text": [
      "GFZ0MGXRAP_20250750000_01D_05M_ORB.SP3.gz: 1.06MB [00:02, 392kB/s]                             \n"
     ]
    },
    {
     "name": "stdout",
     "output_type": "stream",
     "text": [
      " | Download completed for ftp://gssc.esa.int/gnss/products/2358//GFZ0MGXRAP_20250750000_01D_05M_ORB.SP3.gz\n",
      "/var/folders/zy/x63zv75j4zxbjxjc77btggbr0000gt/T/tmpyo30vvfn/GFZ0MGXRAP_20250750000_01D_05M_ORB.SP3 file is read in 3.11 seconds\n",
      "This file does not exist: /var/folders/zy/x63zv75j4zxbjxjc77btggbr0000gt/T/tmpyo30vvfn/GFZ0MGXRAP_20250760000_01D_05M_ORB.SP3\n",
      "Downloading: ftp://gssc.esa.int/gnss/products/2358//GFZ0MGXRAP_20250760000_01D_05M_ORB.SP3.gz"
     ]
    },
    {
     "name": "stderr",
     "output_type": "stream",
     "text": [
      "GFZ0MGXRAP_20250760000_01D_05M_ORB.SP3.gz: 1.06MB [00:02, 419kB/s]                             \n"
     ]
    },
    {
     "name": "stdout",
     "output_type": "stream",
     "text": [
      " | Download completed for ftp://gssc.esa.int/gnss/products/2358//GFZ0MGXRAP_20250760000_01D_05M_ORB.SP3.gz\n",
      "/var/folders/zy/x63zv75j4zxbjxjc77btggbr0000gt/T/tmpyo30vvfn/GFZ0MGXRAP_20250760000_01D_05M_ORB.SP3 file is read in 2.97 seconds\n",
      "This file does not exist: /var/folders/zy/x63zv75j4zxbjxjc77btggbr0000gt/T/tmpyo30vvfn/GFZ0MGXRAP_20250750000_01D_30S_CLK.CLK\n",
      "Downloading: GFZ0MGXRAP_20250750000_01D_30S_CLK.CLK.gz"
     ]
    },
    {
     "name": "stderr",
     "output_type": "stream",
     "text": [
      "GFZ0MGXRAP_20250750000_01D_30S_CLK.CLK.gz: 4.87MB [00:04, 1.12MB/s]                            \n"
     ]
    },
    {
     "name": "stdout",
     "output_type": "stream",
     "text": [
      " | Download completed for GFZ0MGXRAP_20250750000_01D_30S_CLK.CLK.gz\n",
      "/var/folders/zy/x63zv75j4zxbjxjc77btggbr0000gt/T/tmpyo30vvfn/GFZ0MGXRAP_20250750000_01D_30S_CLK.CLK file is read in 1.08 seconds\n",
      "This file does not exist: /var/folders/zy/x63zv75j4zxbjxjc77btggbr0000gt/T/tmpyo30vvfn/GFZ0MGXRAP_20250760000_01D_30S_CLK.CLK\n",
      "Downloading: GFZ0MGXRAP_20250760000_01D_30S_CLK.CLK.gz"
     ]
    },
    {
     "name": "stderr",
     "output_type": "stream",
     "text": [
      "GFZ0MGXRAP_20250760000_01D_30S_CLK.CLK.gz: 4.87MB [00:04, 1.17MB/s]                            \n"
     ]
    },
    {
     "name": "stdout",
     "output_type": "stream",
     "text": [
      " | Download completed for GFZ0MGXRAP_20250760000_01D_30S_CLK.CLK.gz\n",
      "/var/folders/zy/x63zv75j4zxbjxjc77btggbr0000gt/T/tmpyo30vvfn/GFZ0MGXRAP_20250760000_01D_30S_CLK.CLK file is read in 1.20 seconds\n",
      "SP3 interpolation is done in 0.82 seconds\n",
      "Saved 104315 individual observations in /Users/coopercollins/Box/Project_MetoliusGNSS/VOD/Data/GNSS/extracted/youngpine/youngpine_pheno/youngpine_pheno_nc/Reach_raw_20250316193937.nc\n",
      "/Users/coopercollins/Box/Project_MetoliusGNSS/VOD/Data/GNSS/extracted/youngpine/youngpine_pheno/Reach_raw_20250329193952.25O exists | Reading...\n",
      "Observation file  /Users/coopercollins/Box/Project_MetoliusGNSS/VOD/Data/GNSS/extracted/youngpine/youngpine_pheno/Reach_raw_20250329193952.25O  is read in 37.67 seconds.\n",
      "Processing 3079905 individual observations\n",
      "Calculating Azimuth and Elevation\n",
      "/var/folders/zy/x63zv75j4zxbjxjc77btggbr0000gt/T/tmpyo30vvfn/GFZ0MGXRAP_20250880000_01D_05M_ORB.SP3 exists | Reading...\n",
      "/var/folders/zy/x63zv75j4zxbjxjc77btggbr0000gt/T/tmpyo30vvfn/GFZ0MGXRAP_20250880000_01D_05M_ORB.SP3 file is read in 0.20 seconds\n",
      "/var/folders/zy/x63zv75j4zxbjxjc77btggbr0000gt/T/tmpyo30vvfn/GFZ0MGXRAP_20250890000_01D_05M_ORB.SP3 exists | Reading...\n",
      "/var/folders/zy/x63zv75j4zxbjxjc77btggbr0000gt/T/tmpyo30vvfn/GFZ0MGXRAP_20250890000_01D_05M_ORB.SP3 file is read in 0.23 seconds\n",
      "/var/folders/zy/x63zv75j4zxbjxjc77btggbr0000gt/T/tmpyo30vvfn/GFZ0MGXRAP_20250880000_01D_30S_CLK.CLK exists | Reading...\n",
      "/var/folders/zy/x63zv75j4zxbjxjc77btggbr0000gt/T/tmpyo30vvfn/GFZ0MGXRAP_20250880000_01D_30S_CLK.CLK file is read in 1.07 seconds\n",
      "/var/folders/zy/x63zv75j4zxbjxjc77btggbr0000gt/T/tmpyo30vvfn/GFZ0MGXRAP_20250890000_01D_30S_CLK.CLK exists | Reading...\n",
      "/var/folders/zy/x63zv75j4zxbjxjc77btggbr0000gt/T/tmpyo30vvfn/GFZ0MGXRAP_20250890000_01D_30S_CLK.CLK file is read in 1.16 seconds\n",
      "SP3 interpolation is done in 0.85 seconds\n",
      "Saved 104024 individual observations in /Users/coopercollins/Box/Project_MetoliusGNSS/VOD/Data/GNSS/extracted/youngpine/youngpine_pheno/youngpine_pheno_nc/Reach_raw_20250329193952.nc\n",
      "/Users/coopercollins/Box/Project_MetoliusGNSS/VOD/Data/GNSS/extracted/youngpine/youngpine_pheno/Reach_raw_20250318193939.25O exists | Reading...\n",
      "Observation file  /Users/coopercollins/Box/Project_MetoliusGNSS/VOD/Data/GNSS/extracted/youngpine/youngpine_pheno/Reach_raw_20250318193939.25O  is read in 37.78 seconds.\n",
      "Processing 3106870 individual observations\n",
      "Calculating Azimuth and Elevation\n",
      "This file does not exist: /var/folders/zy/x63zv75j4zxbjxjc77btggbr0000gt/T/tmpyo30vvfn/GFZ0MGXRAP_20250770000_01D_05M_ORB.SP3\n",
      "Downloading: ftp://gssc.esa.int/gnss/products/2358//GFZ0MGXRAP_20250770000_01D_05M_ORB.SP3.gz"
     ]
    },
    {
     "name": "stderr",
     "output_type": "stream",
     "text": [
      "GFZ0MGXRAP_20250770000_01D_05M_ORB.SP3.gz: 1.06MB [00:02, 377kB/s]                             \n"
     ]
    },
    {
     "name": "stdout",
     "output_type": "stream",
     "text": [
      " | Download completed for ftp://gssc.esa.int/gnss/products/2358//GFZ0MGXRAP_20250770000_01D_05M_ORB.SP3.gz\n",
      "/var/folders/zy/x63zv75j4zxbjxjc77btggbr0000gt/T/tmpyo30vvfn/GFZ0MGXRAP_20250770000_01D_05M_ORB.SP3 file is read in 3.24 seconds\n",
      "This file does not exist: /var/folders/zy/x63zv75j4zxbjxjc77btggbr0000gt/T/tmpyo30vvfn/GFZ0MGXRAP_20250780000_01D_05M_ORB.SP3\n",
      "Downloading: ftp://gssc.esa.int/gnss/products/2358//GFZ0MGXRAP_20250780000_01D_05M_ORB.SP3.gz"
     ]
    },
    {
     "name": "stderr",
     "output_type": "stream",
     "text": [
      "GFZ0MGXRAP_20250780000_01D_05M_ORB.SP3.gz: 1.05MB [00:02, 395kB/s]                             \n"
     ]
    },
    {
     "name": "stdout",
     "output_type": "stream",
     "text": [
      " | Download completed for ftp://gssc.esa.int/gnss/products/2358//GFZ0MGXRAP_20250780000_01D_05M_ORB.SP3.gz\n",
      "/var/folders/zy/x63zv75j4zxbjxjc77btggbr0000gt/T/tmpyo30vvfn/GFZ0MGXRAP_20250780000_01D_05M_ORB.SP3 file is read in 3.09 seconds\n",
      "This file does not exist: /var/folders/zy/x63zv75j4zxbjxjc77btggbr0000gt/T/tmpyo30vvfn/GFZ0MGXRAP_20250770000_01D_30S_CLK.CLK\n",
      "Downloading: GFZ0MGXRAP_20250770000_01D_30S_CLK.CLK.gz"
     ]
    },
    {
     "name": "stderr",
     "output_type": "stream",
     "text": [
      "GFZ0MGXRAP_20250770000_01D_30S_CLK.CLK.gz: 4.88MB [00:04, 1.14MB/s]                            \n"
     ]
    },
    {
     "name": "stdout",
     "output_type": "stream",
     "text": [
      " | Download completed for GFZ0MGXRAP_20250770000_01D_30S_CLK.CLK.gz\n",
      "/var/folders/zy/x63zv75j4zxbjxjc77btggbr0000gt/T/tmpyo30vvfn/GFZ0MGXRAP_20250770000_01D_30S_CLK.CLK file is read in 1.19 seconds\n",
      "This file does not exist: /var/folders/zy/x63zv75j4zxbjxjc77btggbr0000gt/T/tmpyo30vvfn/GFZ0MGXRAP_20250780000_01D_30S_CLK.CLK\n",
      "Downloading: GFZ0MGXRAP_20250780000_01D_30S_CLK.CLK.gz"
     ]
    },
    {
     "name": "stderr",
     "output_type": "stream",
     "text": [
      "GFZ0MGXRAP_20250780000_01D_30S_CLK.CLK.gz: 4.84MB [00:05, 981kB/s]                             \n"
     ]
    },
    {
     "name": "stdout",
     "output_type": "stream",
     "text": [
      " | Download completed for GFZ0MGXRAP_20250780000_01D_30S_CLK.CLK.gz\n",
      "/var/folders/zy/x63zv75j4zxbjxjc77btggbr0000gt/T/tmpyo30vvfn/GFZ0MGXRAP_20250780000_01D_30S_CLK.CLK file is read in 1.19 seconds\n",
      "SP3 interpolation is done in 0.83 seconds\n",
      "Saved 104659 individual observations in /Users/coopercollins/Box/Project_MetoliusGNSS/VOD/Data/GNSS/extracted/youngpine/youngpine_pheno/youngpine_pheno_nc/Reach_raw_20250318193939.nc\n",
      "/Users/coopercollins/Box/Project_MetoliusGNSS/VOD/Data/GNSS/extracted/youngpine/youngpine_pheno/Reach_raw_20250322193944.25O exists | Reading...\n",
      "Observation file  /Users/coopercollins/Box/Project_MetoliusGNSS/VOD/Data/GNSS/extracted/youngpine/youngpine_pheno/Reach_raw_20250322193944.25O  is read in 37.19 seconds.\n",
      "Processing 3049740 individual observations\n",
      "Calculating Azimuth and Elevation\n",
      "This file does not exist: /var/folders/zy/x63zv75j4zxbjxjc77btggbr0000gt/T/tmpyo30vvfn/GFZ0MGXRAP_20250810000_01D_05M_ORB.SP3\n",
      "Downloading: ftp://gssc.esa.int/gnss/products/2358//GFZ0MGXRAP_20250810000_01D_05M_ORB.SP3.gz"
     ]
    },
    {
     "name": "stderr",
     "output_type": "stream",
     "text": [
      "GFZ0MGXRAP_20250810000_01D_05M_ORB.SP3.gz: 1.07MB [00:02, 405kB/s]                             \n"
     ]
    },
    {
     "name": "stdout",
     "output_type": "stream",
     "text": [
      " | Download completed for ftp://gssc.esa.int/gnss/products/2358//GFZ0MGXRAP_20250810000_01D_05M_ORB.SP3.gz\n",
      "/var/folders/zy/x63zv75j4zxbjxjc77btggbr0000gt/T/tmpyo30vvfn/GFZ0MGXRAP_20250810000_01D_05M_ORB.SP3 file is read in 3.05 seconds\n",
      "/var/folders/zy/x63zv75j4zxbjxjc77btggbr0000gt/T/tmpyo30vvfn/GFZ0MGXRAP_20250820000_01D_05M_ORB.SP3 exists | Reading...\n",
      "/var/folders/zy/x63zv75j4zxbjxjc77btggbr0000gt/T/tmpyo30vvfn/GFZ0MGXRAP_20250820000_01D_05M_ORB.SP3 file is read in 0.19 seconds\n",
      "This file does not exist: /var/folders/zy/x63zv75j4zxbjxjc77btggbr0000gt/T/tmpyo30vvfn/GFZ0MGXRAP_20250810000_01D_30S_CLK.CLK\n",
      "Downloading: GFZ0MGXRAP_20250810000_01D_30S_CLK.CLK.gz"
     ]
    },
    {
     "name": "stderr",
     "output_type": "stream",
     "text": [
      "GFZ0MGXRAP_20250810000_01D_30S_CLK.CLK.gz: 4.84MB [00:17, 287kB/s]                             \n"
     ]
    },
    {
     "name": "stdout",
     "output_type": "stream",
     "text": [
      " | Download completed for GFZ0MGXRAP_20250810000_01D_30S_CLK.CLK.gz\n",
      "/var/folders/zy/x63zv75j4zxbjxjc77btggbr0000gt/T/tmpyo30vvfn/GFZ0MGXRAP_20250810000_01D_30S_CLK.CLK file is read in 1.13 seconds\n",
      "/var/folders/zy/x63zv75j4zxbjxjc77btggbr0000gt/T/tmpyo30vvfn/GFZ0MGXRAP_20250820000_01D_30S_CLK.CLK exists | Reading...\n",
      "/var/folders/zy/x63zv75j4zxbjxjc77btggbr0000gt/T/tmpyo30vvfn/GFZ0MGXRAP_20250820000_01D_30S_CLK.CLK file is read in 1.22 seconds\n",
      "SP3 interpolation is done in 0.82 seconds\n",
      "Saved 103166 individual observations in /Users/coopercollins/Box/Project_MetoliusGNSS/VOD/Data/GNSS/extracted/youngpine/youngpine_pheno/youngpine_pheno_nc/Reach_raw_20250322193944.nc\n",
      "/Users/coopercollins/Box/Project_MetoliusGNSS/VOD/Data/GNSS/extracted/youngpine/youngpine_pheno/Reach_raw_20250315193936.25O exists | Reading...\n",
      "Observation file  /Users/coopercollins/Box/Project_MetoliusGNSS/VOD/Data/GNSS/extracted/youngpine/youngpine_pheno/Reach_raw_20250315193936.25O  is read in 36.89 seconds.\n",
      "Processing 3005030 individual observations\n",
      "Calculating Azimuth and Elevation\n",
      "This file does not exist: /var/folders/zy/x63zv75j4zxbjxjc77btggbr0000gt/T/tmpyo30vvfn/GFZ0MGXRAP_20250740000_01D_05M_ORB.SP3\n",
      "Downloading: ftp://gssc.esa.int/gnss/products/2357//GFZ0MGXRAP_20250740000_01D_05M_ORB.SP3.gz"
     ]
    },
    {
     "name": "stderr",
     "output_type": "stream",
     "text": [
      "GFZ0MGXRAP_20250740000_01D_05M_ORB.SP3.gz: 1.07MB [00:02, 448kB/s]                             \n"
     ]
    },
    {
     "name": "stdout",
     "output_type": "stream",
     "text": [
      " | Download completed for ftp://gssc.esa.int/gnss/products/2357//GFZ0MGXRAP_20250740000_01D_05M_ORB.SP3.gz\n",
      "/var/folders/zy/x63zv75j4zxbjxjc77btggbr0000gt/T/tmpyo30vvfn/GFZ0MGXRAP_20250740000_01D_05M_ORB.SP3 file is read in 2.81 seconds\n",
      "/var/folders/zy/x63zv75j4zxbjxjc77btggbr0000gt/T/tmpyo30vvfn/GFZ0MGXRAP_20250750000_01D_05M_ORB.SP3 exists | Reading...\n",
      "/var/folders/zy/x63zv75j4zxbjxjc77btggbr0000gt/T/tmpyo30vvfn/GFZ0MGXRAP_20250750000_01D_05M_ORB.SP3 file is read in 0.19 seconds\n",
      "This file does not exist: /var/folders/zy/x63zv75j4zxbjxjc77btggbr0000gt/T/tmpyo30vvfn/GFZ0MGXRAP_20250740000_01D_30S_CLK.CLK\n",
      "Downloading: GFZ0MGXRAP_20250740000_01D_30S_CLK.CLK.gz"
     ]
    },
    {
     "name": "stderr",
     "output_type": "stream",
     "text": [
      "GFZ0MGXRAP_20250740000_01D_30S_CLK.CLK.gz: 4.91MB [00:04, 1.13MB/s]                            \n"
     ]
    },
    {
     "name": "stdout",
     "output_type": "stream",
     "text": [
      " | Download completed for GFZ0MGXRAP_20250740000_01D_30S_CLK.CLK.gz\n",
      "/var/folders/zy/x63zv75j4zxbjxjc77btggbr0000gt/T/tmpyo30vvfn/GFZ0MGXRAP_20250740000_01D_30S_CLK.CLK file is read in 1.16 seconds\n",
      "/var/folders/zy/x63zv75j4zxbjxjc77btggbr0000gt/T/tmpyo30vvfn/GFZ0MGXRAP_20250750000_01D_30S_CLK.CLK exists | Reading...\n",
      "/var/folders/zy/x63zv75j4zxbjxjc77btggbr0000gt/T/tmpyo30vvfn/GFZ0MGXRAP_20250750000_01D_30S_CLK.CLK file is read in 1.10 seconds\n",
      "SP3 interpolation is done in 0.86 seconds\n",
      "Saved 101558 individual observations in /Users/coopercollins/Box/Project_MetoliusGNSS/VOD/Data/GNSS/extracted/youngpine/youngpine_pheno/youngpine_pheno_nc/Reach_raw_20250315193936.nc\n",
      "/Users/coopercollins/Box/Project_MetoliusGNSS/VOD/Data/GNSS/extracted/youngpine/youngpine_pheno/Reach_raw_20250313193933.25O exists | Reading...\n",
      "Observation file  /Users/coopercollins/Box/Project_MetoliusGNSS/VOD/Data/GNSS/extracted/youngpine/youngpine_pheno/Reach_raw_20250313193933.25O  is read in 38.31 seconds.\n",
      "Processing 3134711 individual observations\n",
      "Calculating Azimuth and Elevation\n",
      "This file does not exist: /var/folders/zy/x63zv75j4zxbjxjc77btggbr0000gt/T/tmpyo30vvfn/GFZ0MGXRAP_20250720000_01D_05M_ORB.SP3\n",
      "Downloading: ftp://gssc.esa.int/gnss/products/2357//GFZ0MGXRAP_20250720000_01D_05M_ORB.SP3.gz"
     ]
    },
    {
     "name": "stderr",
     "output_type": "stream",
     "text": [
      "GFZ0MGXRAP_20250720000_01D_05M_ORB.SP3.gz: 1.05MB [00:02, 392kB/s]                             \n"
     ]
    },
    {
     "name": "stdout",
     "output_type": "stream",
     "text": [
      " | Download completed for ftp://gssc.esa.int/gnss/products/2357//GFZ0MGXRAP_20250720000_01D_05M_ORB.SP3.gz\n",
      "/var/folders/zy/x63zv75j4zxbjxjc77btggbr0000gt/T/tmpyo30vvfn/GFZ0MGXRAP_20250720000_01D_05M_ORB.SP3 file is read in 3.10 seconds\n",
      "This file does not exist: /var/folders/zy/x63zv75j4zxbjxjc77btggbr0000gt/T/tmpyo30vvfn/GFZ0MGXRAP_20250730000_01D_05M_ORB.SP3\n",
      "Downloading: ftp://gssc.esa.int/gnss/products/2357//GFZ0MGXRAP_20250730000_01D_05M_ORB.SP3.gz"
     ]
    },
    {
     "name": "stderr",
     "output_type": "stream",
     "text": [
      "GFZ0MGXRAP_20250730000_01D_05M_ORB.SP3.gz: 1.06MB [00:02, 375kB/s]                             \n"
     ]
    },
    {
     "name": "stdout",
     "output_type": "stream",
     "text": [
      " | Download completed for ftp://gssc.esa.int/gnss/products/2357//GFZ0MGXRAP_20250730000_01D_05M_ORB.SP3.gz\n",
      "/var/folders/zy/x63zv75j4zxbjxjc77btggbr0000gt/T/tmpyo30vvfn/GFZ0MGXRAP_20250730000_01D_05M_ORB.SP3 file is read in 3.26 seconds\n",
      "This file does not exist: /var/folders/zy/x63zv75j4zxbjxjc77btggbr0000gt/T/tmpyo30vvfn/GFZ0MGXRAP_20250720000_01D_30S_CLK.CLK\n",
      "Downloading: GFZ0MGXRAP_20250720000_01D_30S_CLK.CLK.gz"
     ]
    },
    {
     "name": "stderr",
     "output_type": "stream",
     "text": [
      "GFZ0MGXRAP_20250720000_01D_30S_CLK.CLK.gz: 4.85MB [00:04, 1.11MB/s]                            \n"
     ]
    },
    {
     "name": "stdout",
     "output_type": "stream",
     "text": [
      " | Download completed for GFZ0MGXRAP_20250720000_01D_30S_CLK.CLK.gz\n",
      "/var/folders/zy/x63zv75j4zxbjxjc77btggbr0000gt/T/tmpyo30vvfn/GFZ0MGXRAP_20250720000_01D_30S_CLK.CLK file is read in 1.19 seconds\n",
      "This file does not exist: /var/folders/zy/x63zv75j4zxbjxjc77btggbr0000gt/T/tmpyo30vvfn/GFZ0MGXRAP_20250730000_01D_30S_CLK.CLK\n",
      "Downloading: GFZ0MGXRAP_20250730000_01D_30S_CLK.CLK.gz"
     ]
    },
    {
     "name": "stderr",
     "output_type": "stream",
     "text": [
      "GFZ0MGXRAP_20250730000_01D_30S_CLK.CLK.gz: 4.90MB [00:04, 1.13MB/s]                            \n"
     ]
    },
    {
     "name": "stdout",
     "output_type": "stream",
     "text": [
      " | Download completed for GFZ0MGXRAP_20250730000_01D_30S_CLK.CLK.gz\n",
      "/var/folders/zy/x63zv75j4zxbjxjc77btggbr0000gt/T/tmpyo30vvfn/GFZ0MGXRAP_20250730000_01D_30S_CLK.CLK file is read in 1.17 seconds\n",
      "SP3 interpolation is done in 0.82 seconds\n",
      "Saved 105492 individual observations in /Users/coopercollins/Box/Project_MetoliusGNSS/VOD/Data/GNSS/extracted/youngpine/youngpine_pheno/youngpine_pheno_nc/Reach_raw_20250313193933.nc\n",
      "/Users/coopercollins/Box/Project_MetoliusGNSS/VOD/Data/GNSS/extracted/youngpine/youngpine_pheno/Reach_raw_20250319193940.25O exists | Reading...\n",
      "Observation file  /Users/coopercollins/Box/Project_MetoliusGNSS/VOD/Data/GNSS/extracted/youngpine/youngpine_pheno/Reach_raw_20250319193940.25O  is read in 37.48 seconds.\n",
      "Processing 3068490 individual observations\n",
      "Calculating Azimuth and Elevation\n",
      "/var/folders/zy/x63zv75j4zxbjxjc77btggbr0000gt/T/tmpyo30vvfn/GFZ0MGXRAP_20250780000_01D_05M_ORB.SP3 exists | Reading...\n",
      "/var/folders/zy/x63zv75j4zxbjxjc77btggbr0000gt/T/tmpyo30vvfn/GFZ0MGXRAP_20250780000_01D_05M_ORB.SP3 file is read in 0.19 seconds\n",
      "This file does not exist: /var/folders/zy/x63zv75j4zxbjxjc77btggbr0000gt/T/tmpyo30vvfn/GFZ0MGXRAP_20250790000_01D_05M_ORB.SP3\n",
      "Downloading: ftp://gssc.esa.int/gnss/products/2358//GFZ0MGXRAP_20250790000_01D_05M_ORB.SP3.gz"
     ]
    },
    {
     "name": "stderr",
     "output_type": "stream",
     "text": [
      "GFZ0MGXRAP_20250790000_01D_05M_ORB.SP3.gz: 1.05MB [00:02, 379kB/s]                             \n"
     ]
    },
    {
     "name": "stdout",
     "output_type": "stream",
     "text": [
      " | Download completed for ftp://gssc.esa.int/gnss/products/2358//GFZ0MGXRAP_20250790000_01D_05M_ORB.SP3.gz\n",
      "/var/folders/zy/x63zv75j4zxbjxjc77btggbr0000gt/T/tmpyo30vvfn/GFZ0MGXRAP_20250790000_01D_05M_ORB.SP3 file is read in 3.23 seconds\n",
      "/var/folders/zy/x63zv75j4zxbjxjc77btggbr0000gt/T/tmpyo30vvfn/GFZ0MGXRAP_20250780000_01D_30S_CLK.CLK exists | Reading...\n",
      "/var/folders/zy/x63zv75j4zxbjxjc77btggbr0000gt/T/tmpyo30vvfn/GFZ0MGXRAP_20250780000_01D_30S_CLK.CLK file is read in 1.07 seconds\n",
      "This file does not exist: /var/folders/zy/x63zv75j4zxbjxjc77btggbr0000gt/T/tmpyo30vvfn/GFZ0MGXRAP_20250790000_01D_30S_CLK.CLK\n",
      "Downloading: GFZ0MGXRAP_20250790000_01D_30S_CLK.CLK.gz"
     ]
    },
    {
     "name": "stderr",
     "output_type": "stream",
     "text": [
      "GFZ0MGXRAP_20250790000_01D_30S_CLK.CLK.gz: 4.77MB [00:05, 942kB/s]                             \n"
     ]
    },
    {
     "name": "stdout",
     "output_type": "stream",
     "text": [
      " | Download completed for GFZ0MGXRAP_20250790000_01D_30S_CLK.CLK.gz\n",
      "/var/folders/zy/x63zv75j4zxbjxjc77btggbr0000gt/T/tmpyo30vvfn/GFZ0MGXRAP_20250790000_01D_30S_CLK.CLK file is read in 1.22 seconds\n",
      "SP3 interpolation is done in 0.83 seconds\n",
      "Saved 103700 individual observations in /Users/coopercollins/Box/Project_MetoliusGNSS/VOD/Data/GNSS/extracted/youngpine/youngpine_pheno/youngpine_pheno_nc/Reach_raw_20250319193940.nc\n",
      "/Users/coopercollins/Box/Project_MetoliusGNSS/VOD/Data/GNSS/extracted/youngpine/youngpine_pheno/Reach_raw_20250321193943.25O exists | Reading...\n",
      "Observation file  /Users/coopercollins/Box/Project_MetoliusGNSS/VOD/Data/GNSS/extracted/youngpine/youngpine_pheno/Reach_raw_20250321193943.25O  is read in 37.15 seconds.\n",
      "Processing 3057069 individual observations\n",
      "Calculating Azimuth and Elevation\n",
      "This file does not exist: /var/folders/zy/x63zv75j4zxbjxjc77btggbr0000gt/T/tmpyo30vvfn/GFZ0MGXRAP_20250800000_01D_05M_ORB.SP3\n",
      "Downloading: ftp://gssc.esa.int/gnss/products/2358//GFZ0MGXRAP_20250800000_01D_05M_ORB.SP3.gz"
     ]
    },
    {
     "name": "stderr",
     "output_type": "stream",
     "text": [
      "GFZ0MGXRAP_20250800000_01D_05M_ORB.SP3.gz: 1.06MB [00:02, 421kB/s]                             \n"
     ]
    },
    {
     "name": "stdout",
     "output_type": "stream",
     "text": [
      " | Download completed for ftp://gssc.esa.int/gnss/products/2358//GFZ0MGXRAP_20250800000_01D_05M_ORB.SP3.gz\n",
      "/var/folders/zy/x63zv75j4zxbjxjc77btggbr0000gt/T/tmpyo30vvfn/GFZ0MGXRAP_20250800000_01D_05M_ORB.SP3 file is read in 2.91 seconds\n",
      "/var/folders/zy/x63zv75j4zxbjxjc77btggbr0000gt/T/tmpyo30vvfn/GFZ0MGXRAP_20250810000_01D_05M_ORB.SP3 exists | Reading...\n",
      "/var/folders/zy/x63zv75j4zxbjxjc77btggbr0000gt/T/tmpyo30vvfn/GFZ0MGXRAP_20250810000_01D_05M_ORB.SP3 file is read in 0.20 seconds\n",
      "This file does not exist: /var/folders/zy/x63zv75j4zxbjxjc77btggbr0000gt/T/tmpyo30vvfn/GFZ0MGXRAP_20250800000_01D_30S_CLK.CLK\n",
      "Downloading: GFZ0MGXRAP_20250800000_01D_30S_CLK.CLK.gz"
     ]
    },
    {
     "name": "stderr",
     "output_type": "stream",
     "text": [
      "GFZ0MGXRAP_20250800000_01D_30S_CLK.CLK.gz: 4.80MB [00:04, 1.14MB/s]                            \n"
     ]
    },
    {
     "name": "stdout",
     "output_type": "stream",
     "text": [
      " | Download completed for GFZ0MGXRAP_20250800000_01D_30S_CLK.CLK.gz\n",
      "/var/folders/zy/x63zv75j4zxbjxjc77btggbr0000gt/T/tmpyo30vvfn/GFZ0MGXRAP_20250800000_01D_30S_CLK.CLK file is read in 1.16 seconds\n",
      "/var/folders/zy/x63zv75j4zxbjxjc77btggbr0000gt/T/tmpyo30vvfn/GFZ0MGXRAP_20250810000_01D_30S_CLK.CLK exists | Reading...\n",
      "/var/folders/zy/x63zv75j4zxbjxjc77btggbr0000gt/T/tmpyo30vvfn/GFZ0MGXRAP_20250810000_01D_30S_CLK.CLK file is read in 1.09 seconds\n",
      "SP3 interpolation is done in 0.89 seconds\n",
      "Saved 103325 individual observations in /Users/coopercollins/Box/Project_MetoliusGNSS/VOD/Data/GNSS/extracted/youngpine/youngpine_pheno/youngpine_pheno_nc/Reach_raw_20250321193943.nc\n",
      "/Users/coopercollins/Box/Project_MetoliusGNSS/VOD/Data/GNSS/extracted/youngpine/youngpine_pheno/Reach_raw_20250327193950.25O exists | Reading...\n",
      "Observation file  /Users/coopercollins/Box/Project_MetoliusGNSS/VOD/Data/GNSS/extracted/youngpine/youngpine_pheno/Reach_raw_20250327193950.25O  is read in 37.83 seconds.\n",
      "Processing 3073306 individual observations\n",
      "Calculating Azimuth and Elevation\n",
      "/var/folders/zy/x63zv75j4zxbjxjc77btggbr0000gt/T/tmpyo30vvfn/GFZ0MGXRAP_20250860000_01D_05M_ORB.SP3 exists | Reading...\n",
      "/var/folders/zy/x63zv75j4zxbjxjc77btggbr0000gt/T/tmpyo30vvfn/GFZ0MGXRAP_20250860000_01D_05M_ORB.SP3 file is read in 0.24 seconds\n",
      "/var/folders/zy/x63zv75j4zxbjxjc77btggbr0000gt/T/tmpyo30vvfn/GFZ0MGXRAP_20250870000_01D_05M_ORB.SP3 exists | Reading...\n",
      "/var/folders/zy/x63zv75j4zxbjxjc77btggbr0000gt/T/tmpyo30vvfn/GFZ0MGXRAP_20250870000_01D_05M_ORB.SP3 file is read in 0.20 seconds\n",
      "/var/folders/zy/x63zv75j4zxbjxjc77btggbr0000gt/T/tmpyo30vvfn/GFZ0MGXRAP_20250860000_01D_30S_CLK.CLK exists | Reading...\n",
      "/var/folders/zy/x63zv75j4zxbjxjc77btggbr0000gt/T/tmpyo30vvfn/GFZ0MGXRAP_20250860000_01D_30S_CLK.CLK file is read in 1.23 seconds\n",
      "/var/folders/zy/x63zv75j4zxbjxjc77btggbr0000gt/T/tmpyo30vvfn/GFZ0MGXRAP_20250870000_01D_30S_CLK.CLK exists | Reading...\n",
      "/var/folders/zy/x63zv75j4zxbjxjc77btggbr0000gt/T/tmpyo30vvfn/GFZ0MGXRAP_20250870000_01D_30S_CLK.CLK file is read in 1.17 seconds\n",
      "SP3 interpolation is done in 0.83 seconds\n",
      "Saved 103695 individual observations in /Users/coopercollins/Box/Project_MetoliusGNSS/VOD/Data/GNSS/extracted/youngpine/youngpine_pheno/youngpine_pheno_nc/Reach_raw_20250327193950.nc\n",
      "/Users/coopercollins/Box/Project_MetoliusGNSS/VOD/Data/GNSS/extracted/youngpine/youngpine_pheno/Reach_raw_20250320193942.25O exists | Reading...\n",
      "Observation file  /Users/coopercollins/Box/Project_MetoliusGNSS/VOD/Data/GNSS/extracted/youngpine/youngpine_pheno/Reach_raw_20250320193942.25O  is read in 37.84 seconds.\n",
      "Processing 3083486 individual observations\n",
      "Calculating Azimuth and Elevation\n",
      "/var/folders/zy/x63zv75j4zxbjxjc77btggbr0000gt/T/tmpyo30vvfn/GFZ0MGXRAP_20250790000_01D_05M_ORB.SP3 exists | Reading...\n",
      "/var/folders/zy/x63zv75j4zxbjxjc77btggbr0000gt/T/tmpyo30vvfn/GFZ0MGXRAP_20250790000_01D_05M_ORB.SP3 file is read in 0.19 seconds\n",
      "/var/folders/zy/x63zv75j4zxbjxjc77btggbr0000gt/T/tmpyo30vvfn/GFZ0MGXRAP_20250800000_01D_05M_ORB.SP3 exists | Reading...\n",
      "/var/folders/zy/x63zv75j4zxbjxjc77btggbr0000gt/T/tmpyo30vvfn/GFZ0MGXRAP_20250800000_01D_05M_ORB.SP3 file is read in 0.19 seconds\n",
      "/var/folders/zy/x63zv75j4zxbjxjc77btggbr0000gt/T/tmpyo30vvfn/GFZ0MGXRAP_20250790000_01D_30S_CLK.CLK exists | Reading...\n",
      "/var/folders/zy/x63zv75j4zxbjxjc77btggbr0000gt/T/tmpyo30vvfn/GFZ0MGXRAP_20250790000_01D_30S_CLK.CLK file is read in 1.11 seconds\n",
      "/var/folders/zy/x63zv75j4zxbjxjc77btggbr0000gt/T/tmpyo30vvfn/GFZ0MGXRAP_20250800000_01D_30S_CLK.CLK exists | Reading...\n",
      "/var/folders/zy/x63zv75j4zxbjxjc77btggbr0000gt/T/tmpyo30vvfn/GFZ0MGXRAP_20250800000_01D_30S_CLK.CLK file is read in 1.25 seconds\n",
      "SP3 interpolation is done in 0.82 seconds\n",
      "Saved 104165 individual observations in /Users/coopercollins/Box/Project_MetoliusGNSS/VOD/Data/GNSS/extracted/youngpine/youngpine_pheno/youngpine_pheno_nc/Reach_raw_20250320193942.nc\n",
      "/Users/coopercollins/Box/Project_MetoliusGNSS/VOD/Data/GNSS/extracted/youngpine/youngpine_pheno/Reach_raw_20250312193932.25O exists | Reading...\n",
      "Observation file  /Users/coopercollins/Box/Project_MetoliusGNSS/VOD/Data/GNSS/extracted/youngpine/youngpine_pheno/Reach_raw_20250312193932.25O  is read in 36.93 seconds.\n",
      "Processing 3045968 individual observations\n",
      "Calculating Azimuth and Elevation\n",
      "This file does not exist: /var/folders/zy/x63zv75j4zxbjxjc77btggbr0000gt/T/tmpyo30vvfn/GFZ0MGXRAP_20250710000_01D_05M_ORB.SP3\n",
      "Downloading: ftp://gssc.esa.int/gnss/products/2357//GFZ0MGXRAP_20250710000_01D_05M_ORB.SP3.gz"
     ]
    },
    {
     "name": "stderr",
     "output_type": "stream",
     "text": [
      "GFZ0MGXRAP_20250710000_01D_05M_ORB.SP3.gz: 1.04MB [00:02, 392kB/s]                             \n"
     ]
    },
    {
     "name": "stdout",
     "output_type": "stream",
     "text": [
      " | Download completed for ftp://gssc.esa.int/gnss/products/2357//GFZ0MGXRAP_20250710000_01D_05M_ORB.SP3.gz\n",
      "/var/folders/zy/x63zv75j4zxbjxjc77btggbr0000gt/T/tmpyo30vvfn/GFZ0MGXRAP_20250710000_01D_05M_ORB.SP3 file is read in 3.08 seconds\n",
      "/var/folders/zy/x63zv75j4zxbjxjc77btggbr0000gt/T/tmpyo30vvfn/GFZ0MGXRAP_20250720000_01D_05M_ORB.SP3 exists | Reading...\n",
      "/var/folders/zy/x63zv75j4zxbjxjc77btggbr0000gt/T/tmpyo30vvfn/GFZ0MGXRAP_20250720000_01D_05M_ORB.SP3 file is read in 0.20 seconds\n",
      "This file does not exist: /var/folders/zy/x63zv75j4zxbjxjc77btggbr0000gt/T/tmpyo30vvfn/GFZ0MGXRAP_20250710000_01D_30S_CLK.CLK\n",
      "Downloading: GFZ0MGXRAP_20250710000_01D_30S_CLK.CLK.gz"
     ]
    },
    {
     "name": "stderr",
     "output_type": "stream",
     "text": [
      "GFZ0MGXRAP_20250710000_01D_30S_CLK.CLK.gz: 4.82MB [00:04, 1.06MB/s]                            \n"
     ]
    },
    {
     "name": "stdout",
     "output_type": "stream",
     "text": [
      " | Download completed for GFZ0MGXRAP_20250710000_01D_30S_CLK.CLK.gz\n",
      "/var/folders/zy/x63zv75j4zxbjxjc77btggbr0000gt/T/tmpyo30vvfn/GFZ0MGXRAP_20250710000_01D_30S_CLK.CLK file is read in 1.17 seconds\n",
      "/var/folders/zy/x63zv75j4zxbjxjc77btggbr0000gt/T/tmpyo30vvfn/GFZ0MGXRAP_20250720000_01D_30S_CLK.CLK exists | Reading...\n",
      "/var/folders/zy/x63zv75j4zxbjxjc77btggbr0000gt/T/tmpyo30vvfn/GFZ0MGXRAP_20250720000_01D_30S_CLK.CLK file is read in 1.13 seconds\n",
      "SP3 interpolation is done in 0.82 seconds\n",
      "Saved 102865 individual observations in /Users/coopercollins/Box/Project_MetoliusGNSS/VOD/Data/GNSS/extracted/youngpine/youngpine_pheno/youngpine_pheno_nc/Reach_raw_20250312193932.nc\n",
      "/Users/coopercollins/Box/Project_MetoliusGNSS/VOD/Data/GNSS/extracted/youngpine/youngpine_pheno/Reach_raw_20250314193935.25O exists | Reading...\n",
      "Observation file  /Users/coopercollins/Box/Project_MetoliusGNSS/VOD/Data/GNSS/extracted/youngpine/youngpine_pheno/Reach_raw_20250314193935.25O  is read in 37.46 seconds.\n",
      "Processing 3069425 individual observations\n",
      "Calculating Azimuth and Elevation\n",
      "/var/folders/zy/x63zv75j4zxbjxjc77btggbr0000gt/T/tmpyo30vvfn/GFZ0MGXRAP_20250730000_01D_05M_ORB.SP3 exists | Reading...\n",
      "/var/folders/zy/x63zv75j4zxbjxjc77btggbr0000gt/T/tmpyo30vvfn/GFZ0MGXRAP_20250730000_01D_05M_ORB.SP3 file is read in 0.20 seconds\n",
      "/var/folders/zy/x63zv75j4zxbjxjc77btggbr0000gt/T/tmpyo30vvfn/GFZ0MGXRAP_20250740000_01D_05M_ORB.SP3 exists | Reading...\n",
      "/var/folders/zy/x63zv75j4zxbjxjc77btggbr0000gt/T/tmpyo30vvfn/GFZ0MGXRAP_20250740000_01D_05M_ORB.SP3 file is read in 0.23 seconds\n",
      "/var/folders/zy/x63zv75j4zxbjxjc77btggbr0000gt/T/tmpyo30vvfn/GFZ0MGXRAP_20250730000_01D_30S_CLK.CLK exists | Reading...\n",
      "/var/folders/zy/x63zv75j4zxbjxjc77btggbr0000gt/T/tmpyo30vvfn/GFZ0MGXRAP_20250730000_01D_30S_CLK.CLK file is read in 1.07 seconds\n",
      "/var/folders/zy/x63zv75j4zxbjxjc77btggbr0000gt/T/tmpyo30vvfn/GFZ0MGXRAP_20250740000_01D_30S_CLK.CLK exists | Reading...\n",
      "/var/folders/zy/x63zv75j4zxbjxjc77btggbr0000gt/T/tmpyo30vvfn/GFZ0MGXRAP_20250740000_01D_30S_CLK.CLK file is read in 1.20 seconds\n",
      "SP3 interpolation is done in 0.85 seconds\n",
      "Saved 103687 individual observations in /Users/coopercollins/Box/Project_MetoliusGNSS/VOD/Data/GNSS/extracted/youngpine/youngpine_pheno/youngpine_pheno_nc/Reach_raw_20250314193935.nc\n",
      "/Users/coopercollins/Box/Project_MetoliusGNSS/VOD/Data/GNSS/extracted/youngpine/youngpine_pheno/Reach_raw_20250325193948.25O exists | Reading...\n",
      "Observation file  /Users/coopercollins/Box/Project_MetoliusGNSS/VOD/Data/GNSS/extracted/youngpine/youngpine_pheno/Reach_raw_20250325193948.25O  is read in 36.56 seconds.\n",
      "Processing 3040035 individual observations\n",
      "Calculating Azimuth and Elevation\n",
      "/var/folders/zy/x63zv75j4zxbjxjc77btggbr0000gt/T/tmpyo30vvfn/GFZ0MGXRAP_20250840000_01D_05M_ORB.SP3 exists | Reading...\n",
      "/var/folders/zy/x63zv75j4zxbjxjc77btggbr0000gt/T/tmpyo30vvfn/GFZ0MGXRAP_20250840000_01D_05M_ORB.SP3 file is read in 0.23 seconds\n",
      "/var/folders/zy/x63zv75j4zxbjxjc77btggbr0000gt/T/tmpyo30vvfn/GFZ0MGXRAP_20250850000_01D_05M_ORB.SP3 exists | Reading...\n",
      "/var/folders/zy/x63zv75j4zxbjxjc77btggbr0000gt/T/tmpyo30vvfn/GFZ0MGXRAP_20250850000_01D_05M_ORB.SP3 file is read in 0.19 seconds\n",
      "/var/folders/zy/x63zv75j4zxbjxjc77btggbr0000gt/T/tmpyo30vvfn/GFZ0MGXRAP_20250840000_01D_30S_CLK.CLK exists | Reading...\n",
      "/var/folders/zy/x63zv75j4zxbjxjc77btggbr0000gt/T/tmpyo30vvfn/GFZ0MGXRAP_20250840000_01D_30S_CLK.CLK file is read in 1.17 seconds\n",
      "/var/folders/zy/x63zv75j4zxbjxjc77btggbr0000gt/T/tmpyo30vvfn/GFZ0MGXRAP_20250850000_01D_30S_CLK.CLK exists | Reading...\n",
      "/var/folders/zy/x63zv75j4zxbjxjc77btggbr0000gt/T/tmpyo30vvfn/GFZ0MGXRAP_20250850000_01D_30S_CLK.CLK file is read in 1.15 seconds\n",
      "SP3 interpolation is done in 0.83 seconds\n",
      "Saved 102570 individual observations in /Users/coopercollins/Box/Project_MetoliusGNSS/VOD/Data/GNSS/extracted/youngpine/youngpine_pheno/youngpine_pheno_nc/Reach_raw_20250325193948.nc\n",
      "/Users/coopercollins/Box/Project_MetoliusGNSS/VOD/Data/GNSS/extracted/youngpine/youngpine_pheno/Reach_raw_20250317193938.25O exists | Reading...\n",
      "Observation file  /Users/coopercollins/Box/Project_MetoliusGNSS/VOD/Data/GNSS/extracted/youngpine/youngpine_pheno/Reach_raw_20250317193938.25O  is read in 37.80 seconds.\n",
      "Processing 3105474 individual observations\n",
      "Calculating Azimuth and Elevation\n",
      "/var/folders/zy/x63zv75j4zxbjxjc77btggbr0000gt/T/tmpyo30vvfn/GFZ0MGXRAP_20250760000_01D_05M_ORB.SP3 exists | Reading...\n",
      "/var/folders/zy/x63zv75j4zxbjxjc77btggbr0000gt/T/tmpyo30vvfn/GFZ0MGXRAP_20250760000_01D_05M_ORB.SP3 file is read in 0.19 seconds\n",
      "/var/folders/zy/x63zv75j4zxbjxjc77btggbr0000gt/T/tmpyo30vvfn/GFZ0MGXRAP_20250770000_01D_05M_ORB.SP3 exists | Reading...\n",
      "/var/folders/zy/x63zv75j4zxbjxjc77btggbr0000gt/T/tmpyo30vvfn/GFZ0MGXRAP_20250770000_01D_05M_ORB.SP3 file is read in 0.23 seconds\n",
      "/var/folders/zy/x63zv75j4zxbjxjc77btggbr0000gt/T/tmpyo30vvfn/GFZ0MGXRAP_20250760000_01D_30S_CLK.CLK exists | Reading...\n",
      "/var/folders/zy/x63zv75j4zxbjxjc77btggbr0000gt/T/tmpyo30vvfn/GFZ0MGXRAP_20250760000_01D_30S_CLK.CLK file is read in 1.07 seconds\n",
      "/var/folders/zy/x63zv75j4zxbjxjc77btggbr0000gt/T/tmpyo30vvfn/GFZ0MGXRAP_20250770000_01D_30S_CLK.CLK exists | Reading...\n",
      "/var/folders/zy/x63zv75j4zxbjxjc77btggbr0000gt/T/tmpyo30vvfn/GFZ0MGXRAP_20250770000_01D_30S_CLK.CLK file is read in 1.18 seconds\n",
      "SP3 interpolation is done in 0.82 seconds\n",
      "Saved 104779 individual observations in /Users/coopercollins/Box/Project_MetoliusGNSS/VOD/Data/GNSS/extracted/youngpine/youngpine_pheno/youngpine_pheno_nc/Reach_raw_20250317193938.nc\n",
      "Removed the temporary directory at /var/folders/zy/x63zv75j4zxbjxjc77btggbr0000gt/T/tmpyo30vvfn\n"
     ]
    }
   ],
   "source": [
    "# option for batch processing, example with my files- again, approx-position is for an error\n",
    "#batch processing for one station\n",
    "pattern= {'YoungPine-2':'/Users/coopercollins/Box/Project_MetoliusGNSS/VOD/Data/GNSS/extracted/youngpine/youngpine_pheno/Reach_raw_*.25O'}\n",
    "outputdir={'YoungPine-2':'/Users/coopercollins/Box/Project_MetoliusGNSS/VOD/Data/GNSS/extracted/youngpine/youngpine_pheno/youngpine_pheno_nc/'  }\n",
    "#approx_position=[2481170.8276 -5525721.2902,1992311.7021 ]\n",
    "keepvars=['S1C','S1X','S2C','S2X']\n",
    "#gv.preprocess(pattern,interval='30s',keepvars=keepvars,outputdir=outputdir,approx_position=approx_position)\n",
    "gv.preprocess(pattern,interval='30s',keepvars=keepvars,outputdir=outputdir)"
   ]
  },
  {
   "cell_type": "markdown",
   "id": "da1d730e",
   "metadata": {},
   "source": [
    "Continue portion in a separate file, we call ours gnss_gathering"
   ]
  },
  {
   "cell_type": "code",
   "execution_count": null,
   "id": "5a7eff24",
   "metadata": {},
   "outputs": [],
   "source": [
    "#pairing and concatenating--- starting by establishing path to .nc files per station, replace with own path \n",
    "pattern={'MACROCOSM-1':'/Volumes/coraldelmar/march_collection/MACROCOSM-1/nc/*.nc',\n",
    "        'MACROCOSM-2':'/Volumes/coraldelmar/march_collection/MACROCOSM-2/nc/*.nc',\n",
    "        'MACROCOSM-3':'/Volumes/coraldelmar/march_collection/MACROCOSM-3/nc/*.nc',\n",
    "        'MACROCOSM-5':'/Volumes/coraldelmar/march_collection/MACROCOSM-5/nc/*.nc',\n",
    "        'MACROCOSM-7':'/Volumes/coraldelmar/march_collection/MACROCOSM-7/nc/*.nc'}"
   ]
  },
  {
   "cell_type": "code",
   "execution_count": null,
   "id": "92557c21",
   "metadata": {},
   "outputs": [],
   "source": [
    "#re-establish time intervals - this will be necessary when you want to look at a specific period of data. \n",
    "startday = pd.to_datetime('01-03-2025',format='%d-%m-%Y')\n",
    "timeintervals=pd.interval_range(start=startday, periods=10, freq='D', closed='left')\n",
    "timeintervals"
   ]
  },
  {
   "cell_type": "code",
   "execution_count": null,
   "id": "6adcdad6",
   "metadata": {},
   "outputs": [],
   "source": [
    "#concatenating. Reference station always goes first. Replace with own path+pairings\n",
    "\n",
    "\n",
    "#MACROCOSM 1.5\n",
    "pairings={'MACROCOSM-1.5':('MACROCOSM-1','MACROCOSM-5')}\n",
    "outputdir={'MACROCOSM-1.5':'/Volumes/coraldelmar/march_collection/MACROCOSM-1.5'}\n",
    "keepvars=['S*','Azimuth','Elevation']\n",
    "out=gv.gather_stations(pattern,pairings,timeintervals,outputresult=True)"
   ]
  },
  {
   "cell_type": "markdown",
   "id": "fd5b4222",
   "metadata": {},
   "source": [
    "The portion below I adapt for different station pairings"
   ]
  },
  {
   "cell_type": "code",
   "execution_count": null,
   "id": "43b692a8",
   "metadata": {},
   "outputs": [],
   "source": [
    "#\n",
    "ds=xr.open_mfdataset('/Volumes/coraldelmar/march_collection/MACROCOSM-5.7/*.nc',combine='nested',concat_dim='Epoch')\n",
    "ds"
   ]
  },
  {
   "cell_type": "code",
   "execution_count": null,
   "id": "6ee4371c",
   "metadata": {},
   "outputs": [],
   "source": [
    "#\n",
    "df=ds.to_dataframe().dropna(how='all').reorder_levels([\"Station\",\"Epoch\",\"SV\"]).sort_index()\n",
    "df"
   ]
  },
  {
   "cell_type": "code",
   "execution_count": null,
   "id": "9c0f3d65",
   "metadata": {},
   "outputs": [],
   "source": [
    "hemi = gv.hemibuild(4)\n",
    "hemi"
   ]
  },
  {
   "cell_type": "code",
   "execution_count": null,
   "id": "2a076968",
   "metadata": {},
   "outputs": [],
   "source": [
    "hemi.grid"
   ]
  },
  {
   "cell_type": "code",
   "execution_count": null,
   "id": "a82593bb",
   "metadata": {},
   "outputs": [],
   "source": [
    "# get patches\n",
    "patches = hemi.patches() \n",
    "patches"
   ]
  },
  {
   "cell_type": "code",
   "execution_count": null,
   "id": "5384c6a1",
   "metadata": {},
   "outputs": [],
   "source": [
    "newdf = hemi.add_CellID(df)\n",
    "newdf"
   ]
  },
  {
   "cell_type": "code",
   "execution_count": null,
   "id": "e3689995",
   "metadata": {},
   "outputs": [],
   "source": [
    "hemi_average = newdf.groupby(['CellID','Station']).mean()\n",
    "hemi_average"
   ]
  },
  {
   "cell_type": "code",
   "execution_count": null,
   "id": "f61d93ea",
   "metadata": {},
   "outputs": [],
   "source": [
    "# set which data files should be loaded\n",
    "pattern = '/Volumes/coraldelmar/march_collection/MACROCOSM-5.7/*.nc'\n",
    "# define how to associate stations together. Always put reference station first.\n",
    "pairings={'MACROCOSM-5.7':('MACROCOSM-5','MACROCOSM-7')}\n",
    "# define if some observables with similar frequencies should be combined together. In the future, this should be replaced by the selection of frequency bands.\n",
    "bands = {'VOD1':['S1','S1X','S1C'],'VOD2':['S2','S2X','S2C']}\n",
    "\n",
    "vod = gv.calc_vod(pattern,pairings,bands)\n",
    "vod = vod['MACROCOSM-5.7']\n",
    "vod"
   ]
  },
  {
   "cell_type": "code",
   "execution_count": null,
   "id": "5b15e73b",
   "metadata": {},
   "outputs": [],
   "source": [
    "# intialize hemispheric grid\n",
    "hemi = gv.hemibuild(2)\n",
    "# get patches for plotting later\n",
    "patches = hemi.patches()\n",
    "# classify vod into grid cells, drop azimuth and elevation afterwards as we don't need it anymore\n",
    "vod = hemi.add_CellID(vod)\n",
    "# get average value per grid cell\n",
    "vod_avg = vod.groupby(['CellID']).agg(['mean', 'std', 'count'])\n",
    "# flatten the columns\n",
    "vod_avg.columns = [\"_\".join(x) for x in vod_avg.columns.to_flat_index()]\n",
    "vod_avg"
   ]
  },
  {
   "cell_type": "code",
   "execution_count": null,
   "id": "7da565e8",
   "metadata": {},
   "outputs": [],
   "source": [
    "# merge statistics with the original VOD measurements\n",
    "vod_anom = vod.join(vod_avg,on='CellID')"
   ]
  },
  {
   "cell_type": "code",
   "execution_count": null,
   "id": "d9aeabcc",
   "metadata": {},
   "outputs": [],
   "source": [
    "vod_anom['VOD1_anom'] = vod_anom['VOD1']-vod_anom['VOD1_mean']\n",
    "vod_anom['VOD2_anom'] = vod_anom['VOD2']-vod_anom['VOD2_mean']"
   ]
  },
  {
   "cell_type": "code",
   "execution_count": null,
   "id": "41bd35b6",
   "metadata": {},
   "outputs": [],
   "source": [
    "vod_ts = vod_anom.groupby(pd.Grouper(freq='1h', level='Epoch')).mean()\n",
    "vod_ts"
   ]
  },
  {
   "cell_type": "code",
   "execution_count": null,
   "id": "dca3ee03",
   "metadata": {},
   "outputs": [],
   "source": [
    "#i export vod_anom because it is what we use for plotting moving forward.\n",
    "vod_anom=vod_anom.reset_index()\n",
    "vod_anom.to_csv('/Volumes/coraldelmar/march_collection/MACROCOSM-5.7/vod_anom.csv', index=False)"
   ]
  }
 ],
 "metadata": {
  "kernelspec": {
   "display_name": "Python 3",
   "language": "python",
   "name": "python3"
  },
  "language_info": {
   "codemirror_mode": {
    "name": "ipython",
    "version": 3
   },
   "file_extension": ".py",
   "mimetype": "text/x-python",
   "name": "python",
   "nbconvert_exporter": "python",
   "pygments_lexer": "ipython3",
   "version": "3.9.6"
  }
 },
 "nbformat": 4,
 "nbformat_minor": 5
}
